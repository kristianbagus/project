{
  "cells": [
    {
      "cell_type": "markdown",
      "metadata": {
        "id": "view-in-github",
        "colab_type": "text"
      },
      "source": [
        "<a href=\"https://colab.research.google.com/github/kristianbagus/project/blob/main/Financial%20Data%20Challenge%20BRI%20x%20SVI%202022.ipynb\" target=\"_parent\"><img src=\"https://colab.research.google.com/assets/colab-badge.svg\" alt=\"Open In Colab\"/></a>"
      ]
    },
    {
      "cell_type": "markdown",
      "source": [
        "# Financial Data Challenge BRI x SVI 2022\n",
        "\n",
        "Project ini merupakan use-case dari Financial Data Challenge yang diselenggarakan oleh BRI dan Sharing Vision pada tahun 2022. Peserta ditugaskan membuat sebuah model dari 300 feature untuk menentukkan apakah customer churn/tidak. Dari data tersebut, ditemukan bahwa model mendapatkan hasil dengan AUC sebesar 0.751.\n",
        "\n",
        "Data yang ada bersifat rahasia, sehingga hanya langkah-langkah pengerjaan yang dapat ditampilkan."
      ],
      "metadata": {
        "id": "MaKnBzu40cWj"
      }
    },
    {
      "cell_type": "markdown",
      "source": [
        "## New Section"
      ],
      "metadata": {
        "id": "NjFnOOuXDC8a"
      }
    },
    {
      "cell_type": "code",
      "source": [
        "!pip install BorutaShap\n",
        "!pip install catboost\n",
        "!pip install optuna\n",
        "\n",
        "# Library\n",
        "import numpy as np\n",
        "import pandas as pd\n",
        "import matplotlib.pyplot as plt\n",
        "import seaborn as sns\n",
        "import optuna\n",
        "\n",
        "# Preprocess\n",
        "from sklearn.model_selection import train_test_split\n",
        "from sklearn.impute import SimpleImputer\n",
        "from sklearn.preprocessing import StandardScaler, OneHotEncoder\n",
        "from BorutaShap import BorutaShap\n",
        "from imblearn.combine import SMOTEENN\n",
        "from imblearn.under_sampling import EditedNearestNeighbours\n",
        "\n",
        "# Model\n",
        "from sklearn.linear_model import LogisticRegression\n",
        "from sklearn.ensemble import RandomForestClassifier, BaggingClassifier\n",
        "from sklearn.svm import SVC\n",
        "from sklearn.neighbors import KNeighborsClassifier\n",
        "from xgboost import XGBClassifier\n",
        "from lightgbm import LGBMClassifier\n",
        "from catboost import CatBoostClassifier, Pool\n",
        "\n",
        "from sklearn.metrics import roc_curve, auc, precision_recall_curve, roc_auc_score\n",
        "from optuna.samplers import TPESampler"
      ],
      "metadata": {
        "colab": {
          "base_uri": "https://localhost:8080/"
        },
        "id": "E9cWf-yLPQag",
        "outputId": "ef8ce740-4706-42ae-d877-c2bbe9a1ed6f"
      },
      "execution_count": null,
      "outputs": [
        {
          "output_type": "stream",
          "name": "stdout",
          "text": [
            "Requirement already satisfied: BorutaShap in /usr/local/lib/python3.7/dist-packages (1.0.16)\n",
            "Requirement already satisfied: scipy in /usr/local/lib/python3.7/dist-packages (from BorutaShap) (1.4.1)\n",
            "Requirement already satisfied: matplotlib in /usr/local/lib/python3.7/dist-packages (from BorutaShap) (3.2.2)\n",
            "Requirement already satisfied: seaborn in /usr/local/lib/python3.7/dist-packages (from BorutaShap) (0.11.2)\n",
            "Requirement already satisfied: pandas in /usr/local/lib/python3.7/dist-packages (from BorutaShap) (1.3.5)\n",
            "Requirement already satisfied: statsmodels in /usr/local/lib/python3.7/dist-packages (from BorutaShap) (0.10.2)\n",
            "Requirement already satisfied: numpy in /usr/local/lib/python3.7/dist-packages (from BorutaShap) (1.21.5)\n",
            "Requirement already satisfied: scikit-learn in /usr/local/lib/python3.7/dist-packages (from BorutaShap) (1.0.2)\n",
            "Requirement already satisfied: tqdm in /usr/local/lib/python3.7/dist-packages (from BorutaShap) (4.63.0)\n",
            "Requirement already satisfied: shap>=0.34.0 in /usr/local/lib/python3.7/dist-packages (from BorutaShap) (0.40.0)\n",
            "Requirement already satisfied: packaging>20.9 in /usr/local/lib/python3.7/dist-packages (from shap>=0.34.0->BorutaShap) (21.3)\n",
            "Requirement already satisfied: slicer==0.0.7 in /usr/local/lib/python3.7/dist-packages (from shap>=0.34.0->BorutaShap) (0.0.7)\n",
            "Requirement already satisfied: cloudpickle in /usr/local/lib/python3.7/dist-packages (from shap>=0.34.0->BorutaShap) (1.3.0)\n",
            "Requirement already satisfied: numba in /usr/local/lib/python3.7/dist-packages (from shap>=0.34.0->BorutaShap) (0.51.2)\n",
            "Requirement already satisfied: pyparsing!=3.0.5,>=2.0.2 in /usr/local/lib/python3.7/dist-packages (from packaging>20.9->shap>=0.34.0->BorutaShap) (3.0.7)\n",
            "Requirement already satisfied: kiwisolver>=1.0.1 in /usr/local/lib/python3.7/dist-packages (from matplotlib->BorutaShap) (1.3.2)\n",
            "Requirement already satisfied: python-dateutil>=2.1 in /usr/local/lib/python3.7/dist-packages (from matplotlib->BorutaShap) (2.8.2)\n",
            "Requirement already satisfied: cycler>=0.10 in /usr/local/lib/python3.7/dist-packages (from matplotlib->BorutaShap) (0.11.0)\n",
            "Requirement already satisfied: six>=1.5 in /usr/local/lib/python3.7/dist-packages (from python-dateutil>=2.1->matplotlib->BorutaShap) (1.15.0)\n",
            "Requirement already satisfied: setuptools in /usr/local/lib/python3.7/dist-packages (from numba->shap>=0.34.0->BorutaShap) (57.4.0)\n",
            "Requirement already satisfied: llvmlite<0.35,>=0.34.0.dev0 in /usr/local/lib/python3.7/dist-packages (from numba->shap>=0.34.0->BorutaShap) (0.34.0)\n",
            "Requirement already satisfied: pytz>=2017.3 in /usr/local/lib/python3.7/dist-packages (from pandas->BorutaShap) (2018.9)\n",
            "Requirement already satisfied: threadpoolctl>=2.0.0 in /usr/local/lib/python3.7/dist-packages (from scikit-learn->BorutaShap) (3.1.0)\n",
            "Requirement already satisfied: joblib>=0.11 in /usr/local/lib/python3.7/dist-packages (from scikit-learn->BorutaShap) (1.1.0)\n",
            "Requirement already satisfied: patsy>=0.4.0 in /usr/local/lib/python3.7/dist-packages (from statsmodels->BorutaShap) (0.5.2)\n",
            "Requirement already satisfied: catboost in /usr/local/lib/python3.7/dist-packages (1.0.4)\n",
            "Requirement already satisfied: plotly in /usr/local/lib/python3.7/dist-packages (from catboost) (5.5.0)\n",
            "Requirement already satisfied: numpy>=1.16.0 in /usr/local/lib/python3.7/dist-packages (from catboost) (1.21.5)\n",
            "Requirement already satisfied: scipy in /usr/local/lib/python3.7/dist-packages (from catboost) (1.4.1)\n",
            "Requirement already satisfied: six in /usr/local/lib/python3.7/dist-packages (from catboost) (1.15.0)\n",
            "Requirement already satisfied: pandas>=0.24.0 in /usr/local/lib/python3.7/dist-packages (from catboost) (1.3.5)\n",
            "Requirement already satisfied: matplotlib in /usr/local/lib/python3.7/dist-packages (from catboost) (3.2.2)\n",
            "Requirement already satisfied: graphviz in /usr/local/lib/python3.7/dist-packages (from catboost) (0.10.1)\n",
            "Requirement already satisfied: python-dateutil>=2.7.3 in /usr/local/lib/python3.7/dist-packages (from pandas>=0.24.0->catboost) (2.8.2)\n",
            "Requirement already satisfied: pytz>=2017.3 in /usr/local/lib/python3.7/dist-packages (from pandas>=0.24.0->catboost) (2018.9)\n",
            "Requirement already satisfied: cycler>=0.10 in /usr/local/lib/python3.7/dist-packages (from matplotlib->catboost) (0.11.0)\n",
            "Requirement already satisfied: kiwisolver>=1.0.1 in /usr/local/lib/python3.7/dist-packages (from matplotlib->catboost) (1.3.2)\n",
            "Requirement already satisfied: pyparsing!=2.0.4,!=2.1.2,!=2.1.6,>=2.0.1 in /usr/local/lib/python3.7/dist-packages (from matplotlib->catboost) (3.0.7)\n",
            "Requirement already satisfied: tenacity>=6.2.0 in /usr/local/lib/python3.7/dist-packages (from plotly->catboost) (8.0.1)\n",
            "Requirement already satisfied: optuna in /usr/local/lib/python3.7/dist-packages (2.10.0)\n",
            "Requirement already satisfied: colorlog in /usr/local/lib/python3.7/dist-packages (from optuna) (6.6.0)\n",
            "Requirement already satisfied: cliff in /usr/local/lib/python3.7/dist-packages (from optuna) (3.10.1)\n",
            "Requirement already satisfied: tqdm in /usr/local/lib/python3.7/dist-packages (from optuna) (4.63.0)\n",
            "Requirement already satisfied: sqlalchemy>=1.1.0 in /usr/local/lib/python3.7/dist-packages (from optuna) (1.4.31)\n",
            "Requirement already satisfied: numpy in /usr/local/lib/python3.7/dist-packages (from optuna) (1.21.5)\n",
            "Requirement already satisfied: alembic in /usr/local/lib/python3.7/dist-packages (from optuna) (1.7.6)\n",
            "Requirement already satisfied: packaging>=20.0 in /usr/local/lib/python3.7/dist-packages (from optuna) (21.3)\n",
            "Requirement already satisfied: PyYAML in /usr/local/lib/python3.7/dist-packages (from optuna) (3.13)\n",
            "Requirement already satisfied: cmaes>=0.8.2 in /usr/local/lib/python3.7/dist-packages (from optuna) (0.8.2)\n",
            "Requirement already satisfied: scipy!=1.4.0 in /usr/local/lib/python3.7/dist-packages (from optuna) (1.4.1)\n",
            "Requirement already satisfied: pyparsing!=3.0.5,>=2.0.2 in /usr/local/lib/python3.7/dist-packages (from packaging>=20.0->optuna) (3.0.7)\n",
            "Requirement already satisfied: importlib-metadata in /usr/local/lib/python3.7/dist-packages (from sqlalchemy>=1.1.0->optuna) (4.11.2)\n",
            "Requirement already satisfied: greenlet!=0.4.17 in /usr/local/lib/python3.7/dist-packages (from sqlalchemy>=1.1.0->optuna) (1.1.2)\n",
            "Requirement already satisfied: Mako in /usr/local/lib/python3.7/dist-packages (from alembic->optuna) (1.1.6)\n",
            "Requirement already satisfied: importlib-resources in /usr/local/lib/python3.7/dist-packages (from alembic->optuna) (5.4.0)\n",
            "Requirement already satisfied: pbr!=2.1.0,>=2.0.0 in /usr/local/lib/python3.7/dist-packages (from cliff->optuna) (5.8.1)\n",
            "Requirement already satisfied: autopage>=0.4.0 in /usr/local/lib/python3.7/dist-packages (from cliff->optuna) (0.5.0)\n",
            "Requirement already satisfied: PrettyTable>=0.7.2 in /usr/local/lib/python3.7/dist-packages (from cliff->optuna) (3.1.1)\n",
            "Requirement already satisfied: stevedore>=2.0.1 in /usr/local/lib/python3.7/dist-packages (from cliff->optuna) (3.5.0)\n",
            "Requirement already satisfied: cmd2>=1.0.0 in /usr/local/lib/python3.7/dist-packages (from cliff->optuna) (2.4.0)\n",
            "Requirement already satisfied: pyperclip>=1.6 in /usr/local/lib/python3.7/dist-packages (from cmd2>=1.0.0->cliff->optuna) (1.8.2)\n",
            "Requirement already satisfied: attrs>=16.3.0 in /usr/local/lib/python3.7/dist-packages (from cmd2>=1.0.0->cliff->optuna) (21.4.0)\n",
            "Requirement already satisfied: typing-extensions in /usr/local/lib/python3.7/dist-packages (from cmd2>=1.0.0->cliff->optuna) (3.10.0.2)\n",
            "Requirement already satisfied: wcwidth>=0.1.7 in /usr/local/lib/python3.7/dist-packages (from cmd2>=1.0.0->cliff->optuna) (0.2.5)\n",
            "Requirement already satisfied: zipp>=0.5 in /usr/local/lib/python3.7/dist-packages (from importlib-metadata->sqlalchemy>=1.1.0->optuna) (3.7.0)\n",
            "Requirement already satisfied: MarkupSafe>=0.9.2 in /usr/local/lib/python3.7/dist-packages (from Mako->alembic->optuna) (2.0.1)\n"
          ]
        },
        {
          "output_type": "stream",
          "name": "stderr",
          "text": [
            "/usr/local/lib/python3.7/dist-packages/statsmodels/tools/_testing.py:19: FutureWarning: pandas.util.testing is deprecated. Use the functions in the public API at pandas.testing instead.\n",
            "  import pandas.util.testing as tm\n"
          ]
        }
      ]
    },
    {
      "cell_type": "markdown",
      "metadata": {
        "id": "4QAEwFTYTy2F"
      },
      "source": [
        "## Import Dataset"
      ]
    },
    {
      "cell_type": "code",
      "execution_count": null,
      "metadata": {
        "colab": {
          "base_uri": "https://localhost:8080/"
        },
        "id": "-l2k7AWDKw9p",
        "outputId": "0ccc3ad6-d013-4e05-8df7-075e5f61c50b"
      },
      "outputs": [
        {
          "output_type": "stream",
          "name": "stdout",
          "text": [
            "Drive already mounted at /content/drive; to attempt to forcibly remount, call drive.mount(\"/content/drive\", force_remount=True).\n"
          ]
        }
      ],
      "source": [
        "from google.colab import drive\n",
        "drive.mount('/content/drive')"
      ]
    },
    {
      "cell_type": "code",
      "execution_count": null,
      "metadata": {
        "id": "pK02kDKyJjHO"
      },
      "outputs": [],
      "source": [
        "import zipfile\n",
        "zipfile = zipfile.ZipFile('/content/drive/MyDrive/FDC_dataset.zip', 'r')\n",
        "zipfile.extractall()"
      ]
    },
    {
      "cell_type": "code",
      "execution_count": null,
      "metadata": {
        "id": "NAsjocYnLiQ-"
      },
      "outputs": [],
      "source": [
        "# Load dataset\n",
        "df = pd.read_csv('/content/FDC/findata_challenge_train.csv')\n",
        "\n",
        "# Preview dataset\n",
        "df"
      ]
    },
    {
      "cell_type": "markdown",
      "metadata": {
        "id": "zrRwffwmUdQT"
      },
      "source": [
        "## Exploratory Data Analysis"
      ]
    },
    {
      "cell_type": "markdown",
      "source": [
        "Kolom numerik:"
      ],
      "metadata": {
        "id": "CP0HGxRlEEKa"
      }
    },
    {
      "cell_type": "code",
      "execution_count": null,
      "metadata": {
        "id": "K8J4hG77UQGK"
      },
      "outputs": [],
      "source": [
        "df.describe().round(2)"
      ]
    },
    {
      "cell_type": "markdown",
      "source": [
        "Observasi:\n",
        "  - Dataset dengan kolom tipe numerik diasumsikan semuanya berdistribusi normal (dilihat dari nilai mean dan median yang tidak berbeda jauh) \n",
        "  - Beberapa kolom memiliki nilai bilangan bulat (cth: 'x6', 'x7')\n",
        "  - Beberapa kolom ('x51', 'x104', 'x118') bisa dianggap variabel boolean karena bernilai 0 dan 1"
      ],
      "metadata": {
        "id": "6U7lu9M8-QE5"
      }
    },
    {
      "cell_type": "markdown",
      "source": [
        "Kolom kategorik:"
      ],
      "metadata": {
        "id": "KYXhYx-yC4RE"
      }
    },
    {
      "cell_type": "code",
      "execution_count": null,
      "metadata": {
        "colab": {
          "base_uri": "https://localhost:8080/",
          "height": 175
        },
        "id": "A_sYPySTMLlk",
        "outputId": "eb5e60c6-5ac2-452e-87ef-fd43eea19731"
      },
      "outputs": [
        {
          "output_type": "execute_result",
          "data": {
            "text/html": [
              "\n",
              "  <div id=\"df-fa170a0a-be36-487e-a58d-15c6f0d16e2c\">\n",
              "    <div class=\"colab-df-container\">\n",
              "      <div>\n",
              "<style scoped>\n",
              "    .dataframe tbody tr th:only-of-type {\n",
              "        vertical-align: middle;\n",
              "    }\n",
              "\n",
              "    .dataframe tbody tr th {\n",
              "        vertical-align: top;\n",
              "    }\n",
              "\n",
              "    .dataframe thead th {\n",
              "        text-align: right;\n",
              "    }\n",
              "</style>\n",
              "<table border=\"1\" class=\"dataframe\">\n",
              "  <thead>\n",
              "    <tr style=\"text-align: right;\">\n",
              "      <th></th>\n",
              "      <th>x21</th>\n",
              "      <th>x79</th>\n",
              "      <th>x89</th>\n",
              "      <th>x108</th>\n",
              "      <th>x112</th>\n",
              "    </tr>\n",
              "  </thead>\n",
              "  <tbody>\n",
              "    <tr>\n",
              "      <th>count</th>\n",
              "      <td>99874</td>\n",
              "      <td>99882</td>\n",
              "      <td>99875</td>\n",
              "      <td>99862</td>\n",
              "      <td>99858</td>\n",
              "    </tr>\n",
              "    <tr>\n",
              "      <th>unique</th>\n",
              "      <td>12</td>\n",
              "      <td>2</td>\n",
              "      <td>27</td>\n",
              "      <td>5</td>\n",
              "      <td>12</td>\n",
              "    </tr>\n",
              "    <tr>\n",
              "      <th>top</th>\n",
              "      <td>Jun</td>\n",
              "      <td>Perempuan</td>\n",
              "      <td>Kalimantan Tengah</td>\n",
              "      <td>SMP</td>\n",
              "      <td>Jul</td>\n",
              "    </tr>\n",
              "    <tr>\n",
              "      <th>freq</th>\n",
              "      <td>28155</td>\n",
              "      <td>50046</td>\n",
              "      <td>12449</td>\n",
              "      <td>60285</td>\n",
              "      <td>27476</td>\n",
              "    </tr>\n",
              "  </tbody>\n",
              "</table>\n",
              "</div>\n",
              "      <button class=\"colab-df-convert\" onclick=\"convertToInteractive('df-fa170a0a-be36-487e-a58d-15c6f0d16e2c')\"\n",
              "              title=\"Convert this dataframe to an interactive table.\"\n",
              "              style=\"display:none;\">\n",
              "        \n",
              "  <svg xmlns=\"http://www.w3.org/2000/svg\" height=\"24px\"viewBox=\"0 0 24 24\"\n",
              "       width=\"24px\">\n",
              "    <path d=\"M0 0h24v24H0V0z\" fill=\"none\"/>\n",
              "    <path d=\"M18.56 5.44l.94 2.06.94-2.06 2.06-.94-2.06-.94-.94-2.06-.94 2.06-2.06.94zm-11 1L8.5 8.5l.94-2.06 2.06-.94-2.06-.94L8.5 2.5l-.94 2.06-2.06.94zm10 10l.94 2.06.94-2.06 2.06-.94-2.06-.94-.94-2.06-.94 2.06-2.06.94z\"/><path d=\"M17.41 7.96l-1.37-1.37c-.4-.4-.92-.59-1.43-.59-.52 0-1.04.2-1.43.59L10.3 9.45l-7.72 7.72c-.78.78-.78 2.05 0 2.83L4 21.41c.39.39.9.59 1.41.59.51 0 1.02-.2 1.41-.59l7.78-7.78 2.81-2.81c.8-.78.8-2.07 0-2.86zM5.41 20L4 18.59l7.72-7.72 1.47 1.35L5.41 20z\"/>\n",
              "  </svg>\n",
              "      </button>\n",
              "      \n",
              "  <style>\n",
              "    .colab-df-container {\n",
              "      display:flex;\n",
              "      flex-wrap:wrap;\n",
              "      gap: 12px;\n",
              "    }\n",
              "\n",
              "    .colab-df-convert {\n",
              "      background-color: #E8F0FE;\n",
              "      border: none;\n",
              "      border-radius: 50%;\n",
              "      cursor: pointer;\n",
              "      display: none;\n",
              "      fill: #1967D2;\n",
              "      height: 32px;\n",
              "      padding: 0 0 0 0;\n",
              "      width: 32px;\n",
              "    }\n",
              "\n",
              "    .colab-df-convert:hover {\n",
              "      background-color: #E2EBFA;\n",
              "      box-shadow: 0px 1px 2px rgba(60, 64, 67, 0.3), 0px 1px 3px 1px rgba(60, 64, 67, 0.15);\n",
              "      fill: #174EA6;\n",
              "    }\n",
              "\n",
              "    [theme=dark] .colab-df-convert {\n",
              "      background-color: #3B4455;\n",
              "      fill: #D2E3FC;\n",
              "    }\n",
              "\n",
              "    [theme=dark] .colab-df-convert:hover {\n",
              "      background-color: #434B5C;\n",
              "      box-shadow: 0px 1px 3px 1px rgba(0, 0, 0, 0.15);\n",
              "      filter: drop-shadow(0px 1px 2px rgba(0, 0, 0, 0.3));\n",
              "      fill: #FFFFFF;\n",
              "    }\n",
              "  </style>\n",
              "\n",
              "      <script>\n",
              "        const buttonEl =\n",
              "          document.querySelector('#df-fa170a0a-be36-487e-a58d-15c6f0d16e2c button.colab-df-convert');\n",
              "        buttonEl.style.display =\n",
              "          google.colab.kernel.accessAllowed ? 'block' : 'none';\n",
              "\n",
              "        async function convertToInteractive(key) {\n",
              "          const element = document.querySelector('#df-fa170a0a-be36-487e-a58d-15c6f0d16e2c');\n",
              "          const dataTable =\n",
              "            await google.colab.kernel.invokeFunction('convertToInteractive',\n",
              "                                                     [key], {});\n",
              "          if (!dataTable) return;\n",
              "\n",
              "          const docLinkHtml = 'Like what you see? Visit the ' +\n",
              "            '<a target=\"_blank\" href=https://colab.research.google.com/notebooks/data_table.ipynb>data table notebook</a>'\n",
              "            + ' to learn more about interactive tables.';\n",
              "          element.innerHTML = '';\n",
              "          dataTable['output_type'] = 'display_data';\n",
              "          await google.colab.output.renderOutput(dataTable, element);\n",
              "          const docLink = document.createElement('div');\n",
              "          docLink.innerHTML = docLinkHtml;\n",
              "          element.appendChild(docLink);\n",
              "        }\n",
              "      </script>\n",
              "    </div>\n",
              "  </div>\n",
              "  "
            ],
            "text/plain": [
              "          x21        x79                x89   x108   x112\n",
              "count   99874      99882              99875  99862  99858\n",
              "unique     12          2                 27      5     12\n",
              "top       Jun  Perempuan  Kalimantan Tengah    SMP    Jul\n",
              "freq    28155      50046              12449  60285  27476"
            ]
          },
          "metadata": {},
          "execution_count": 6
        }
      ],
      "source": [
        "df.select_dtypes(include=['object']).describe()"
      ]
    },
    {
      "cell_type": "markdown",
      "source": [
        "  - Dalam dataset ini juga terdapat kolom kategorik seperti bulan, provinsi, dan tingkat pendidikan."
      ],
      "metadata": {
        "id": "isq_wFl0DH0D"
      }
    },
    {
      "cell_type": "markdown",
      "metadata": {
        "id": "L2oq5PHnMTwX"
      },
      "source": [
        "### Menghitung distribusi kelas pada variabel target"
      ]
    },
    {
      "cell_type": "code",
      "source": [
        "# Hitung presentase distribusi kelas variabel target\n",
        "freq = df['y'].value_counts() / len(df['y']) * 100\n",
        "freq"
      ],
      "metadata": {
        "colab": {
          "base_uri": "https://localhost:8080/"
        },
        "id": "13mhfBIrITzf",
        "outputId": "3f71f2c5-87b7-4de4-8c68-8fee20be82bd"
      },
      "execution_count": null,
      "outputs": [
        {
          "output_type": "execute_result",
          "data": {
            "text/plain": [
              "0    83.008\n",
              "1    16.992\n",
              "Name: y, dtype: float64"
            ]
          },
          "metadata": {},
          "execution_count": 7
        }
      ]
    },
    {
      "cell_type": "markdown",
      "source": [
        "Jika dilihat maka dataset ini memiliki jumlah kelas yang tidak seimbang, di mana nasabah yang churn sebesar 17% dan yang tidak sebesar 83%"
      ],
      "metadata": {
        "id": "Wa1WoSqeMU8m"
      }
    },
    {
      "cell_type": "markdown",
      "source": [
        "### Korelasi antar variabel"
      ],
      "metadata": {
        "id": "xOWJ1R7lLr53"
      }
    },
    {
      "cell_type": "code",
      "execution_count": null,
      "metadata": {
        "colab": {
          "base_uri": "https://localhost:8080/",
          "height": 873
        },
        "id": "O8EBU3ZBqmj5",
        "outputId": "29e71a3e-27b8-4511-ddd8-4841a5e034db"
      },
      "outputs": [
        {
          "output_type": "display_data",
          "data": {
            "image/png": "[encoded data removed]",
            "text/plain": [
              "<Figure size 1440x864 with 2 Axes>"
            ]
          },
          "metadata": {
            "needs_background": "light"
          }
        }
      ],
      "source": [
        "# Plot korelasi\n",
        "corr = df.corr()\n",
        "cmap = sns.diverging_palette(230, 20, as_cmap=True)\n",
        "plt.figure(figsize=(20,12))\n",
        "sns.heatmap(corr, cmap=cmap, annot=False, center=0, vmin=-1, square=True, linewidths=.5)\n",
        "plt.tight_layout()\n",
        "plt.show()"
      ]
    },
    {
      "cell_type": "markdown",
      "source": [
        "Dari grafik di atas, terlihat bahwa sebagian kecil kolom memiliki korelasi satu sama lain. Namun tetap, sebagian besar dari kolom-kolom yang ada tidak berkorelasi/ berkorelasi rendah."
      ],
      "metadata": {
        "id": "OAx22AmT-87F"
      }
    },
    {
      "cell_type": "markdown",
      "metadata": {
        "id": "Zcs3wjCSLTSF"
      },
      "source": [
        "## Data Preprocessing"
      ]
    },
    {
      "cell_type": "markdown",
      "metadata": {
        "id": "OHYPk9cZQIeN"
      },
      "source": [
        "### Cek Duplicate Data"
      ]
    },
    {
      "cell_type": "code",
      "execution_count": null,
      "metadata": {
        "colab": {
          "base_uri": "https://localhost:8080/"
        },
        "id": "gQgINxmAO-gw",
        "outputId": "56b123b0-9688-4262-e825-48f5fca3d86b"
      },
      "outputs": [
        {
          "output_type": "execute_result",
          "data": {
            "text/plain": [
              "0"
            ]
          },
          "metadata": {},
          "execution_count": 9
        }
      ],
      "source": [
        "df.duplicated().sum()"
      ]
    },
    {
      "cell_type": "markdown",
      "metadata": {
        "id": "3cm8lFT1VvUO"
      },
      "source": [
        "Tidak ada baris yang sama dari dataset ini.\n",
        "\n"
      ]
    },
    {
      "cell_type": "markdown",
      "metadata": {
        "id": "XOY3z5xcLXRw"
      },
      "source": [
        "### Train Validation Split"
      ]
    },
    {
      "cell_type": "code",
      "execution_count": null,
      "metadata": {
        "id": "uKRjkSbVMCwG"
      },
      "outputs": [],
      "source": [
        "# Gets the independent variables\n",
        "X = df.drop(columns='y')\n",
        "# Gets the dependent variable (the target)\n",
        "y = df['y']\n",
        "\n",
        "# Splits the dataset\n",
        "X_train, X_val, y_train, y_val = train_test_split(X, y, test_size = 0.15, stratify=y, random_state=21)"
      ]
    },
    {
      "cell_type": "markdown",
      "source": [
        "Pada kasus ini data akan dibagi menjadi 85% train dan 15% test"
      ],
      "metadata": {
        "id": "Xea5Oa5yQIpk"
      }
    },
    {
      "cell_type": "markdown",
      "metadata": {
        "id": "TE4QOfJkQDIh"
      },
      "source": [
        "### Handle Missing Value\n"
      ]
    },
    {
      "cell_type": "markdown",
      "metadata": {
        "id": "SVQeogg4NFk8"
      },
      "source": [
        "Mengecek missing value:"
      ]
    },
    {
      "cell_type": "code",
      "execution_count": null,
      "metadata": {
        "colab": {
          "base_uri": "https://localhost:8080/"
        },
        "id": "585abfq9Oslu",
        "outputId": "8128a4b0-896a-4b6e-96a7-64deb3ee9d88"
      },
      "outputs": [
        {
          "output_type": "execute_result",
          "data": {
            "text/plain": [
              "x0      103\n",
              "x1      105\n",
              "x2      110\n",
              "x3       96\n",
              "x4      114\n",
              "       ... \n",
              "x120    100\n",
              "x121    114\n",
              "x122    104\n",
              "x123    110\n",
              "x124    110\n",
              "Length: 125, dtype: int64"
            ]
          },
          "metadata": {},
          "execution_count": 11
        }
      ],
      "source": [
        "X_train.isnull().sum()"
      ]
    },
    {
      "cell_type": "markdown",
      "source": [
        "Imputasi missing value:\n",
        "  - Missing value akan ditangani dengan nilai median untuk variabel numerik dan modus untuk variabel kategorik"
      ],
      "metadata": {
        "id": "fgl3dlK6O9Gr"
      }
    },
    {
      "cell_type": "code",
      "execution_count": null,
      "metadata": {
        "id": "JU7GOs3BR2ye"
      },
      "outputs": [],
      "source": [
        "# List kolom berdasarkan tipe data\n",
        "bin_categorical = ['x51', 'x79', 'x104', 'x118']\n",
        "categorical = ['x21', 'x89', 'x108', 'x112']\n",
        "numerical = [n for n in X_train.columns if n not in categorical + bin_categorical]"
      ]
    },
    {
      "cell_type": "code",
      "execution_count": null,
      "metadata": {
        "id": "ZJgroLTQTRrP"
      },
      "outputs": [],
      "source": [
        "# Imputasi Numerik\n",
        "impute_median = SimpleImputer(strategy='median')\n",
        "impute_median = impute_median.fit(X_train[numerical])\n",
        "X_train[numerical] = impute_median.transform(X_train[numerical])\n",
        "\n",
        "# Imputasi Kategorik\n",
        "impute_mode = SimpleImputer(strategy='most_frequent')\n",
        "impute_mode = impute_mode.fit(X_train[categorical + bin_categorical])\n",
        "X_train[categorical + bin_categorical] = impute_mode.transform(X_train[categorical + bin_categorical])"
      ]
    },
    {
      "cell_type": "markdown",
      "source": [
        "Cek missing value setelah imputasi:"
      ],
      "metadata": {
        "id": "2WZArpm9Pj4q"
      }
    },
    {
      "cell_type": "code",
      "execution_count": null,
      "metadata": {
        "colab": {
          "base_uri": "https://localhost:8080/"
        },
        "id": "faHmkxb4Vb1y",
        "outputId": "cfb37edd-578a-4152-db8e-5ab870728a98"
      },
      "outputs": [
        {
          "output_type": "execute_result",
          "data": {
            "text/plain": [
              "0"
            ]
          },
          "metadata": {},
          "execution_count": 14
        }
      ],
      "source": [
        "X_train.isnull().sum().sum()"
      ]
    },
    {
      "cell_type": "markdown",
      "metadata": {
        "id": "cB7f536uXMl1"
      },
      "source": [
        "### Standardizing"
      ]
    },
    {
      "cell_type": "code",
      "execution_count": null,
      "metadata": {
        "id": "VsaeBQznfPSw"
      },
      "outputs": [],
      "source": [
        "# Standardisasi nilai variabel numerik\n",
        "std_scale = StandardScaler()\n",
        "std_scale = std_scale.fit(X_train[numerical])\n",
        "X_train[numerical] = std_scale.transform(X_train[numerical])"
      ]
    },
    {
      "cell_type": "code",
      "source": [
        "# Cek nilai setelah distandardisasi\n",
        "X_train[numerical].describe().round(2)"
      ],
      "metadata": {
        "id": "HeaBoWljPpI0"
      },
      "execution_count": null,
      "outputs": []
    },
    {
      "cell_type": "markdown",
      "metadata": {
        "id": "0RgnWaSCkYya"
      },
      "source": [
        "### Feature Engineering"
      ]
    },
    {
      "cell_type": "markdown",
      "metadata": {
        "id": "p8a690dLkcV8"
      },
      "source": [
        "Encoding variabel kategorik:"
      ]
    },
    {
      "cell_type": "code",
      "execution_count": null,
      "metadata": {
        "id": "gN8KrLmukWk4"
      },
      "outputs": [],
      "source": [
        "# Manual Encoding\n",
        "X_train['x79'] = X_train['x79'].replace({'Laki-laki':0, 'Perempuan':1})"
      ]
    },
    {
      "cell_type": "code",
      "execution_count": null,
      "metadata": {
        "id": "0B5Up-9rxNJv"
      },
      "outputs": [],
      "source": [
        "# One-hot encoding\n",
        "encode = OneHotEncoder(handle_unknown='ignore')\n",
        "\n",
        "encode.fit(X_train[categorical])\n",
        "codes = encode.transform(X_train[categorical]).toarray()\n",
        "feature_names = encode.get_feature_names(categorical)\n",
        "\n",
        "X_train = pd.concat([X_train[numerical + bin_categorical].reset_index(drop=True), \n",
        "               pd.DataFrame(codes,columns=feature_names).astype(float).reset_index(drop=True)], axis=1)"
      ]
    },
    {
      "cell_type": "code",
      "execution_count": null,
      "metadata": {
        "id": "KP6gq4wj0wiq",
        "colab": {
          "base_uri": "https://localhost:8080/"
        },
        "outputId": "d7352b48-5215-4192-9ffe-efcf49a1f492"
      },
      "outputs": [
        {
          "output_type": "execute_result",
          "data": {
            "text/plain": [
              "(85000, 177)"
            ]
          },
          "metadata": {},
          "execution_count": 19
        }
      ],
      "source": [
        "# Cek jumlah kolom setelah encoding\n",
        "X_train.shape"
      ]
    },
    {
      "cell_type": "markdown",
      "source": [
        "### Convert Tipe Data"
      ],
      "metadata": {
        "id": "dKMEEwvISqJ1"
      }
    },
    {
      "cell_type": "code",
      "execution_count": null,
      "metadata": {
        "id": "G0dHUfb5pmLi"
      },
      "outputs": [],
      "source": [
        "# Convert tipe data menjadi float\n",
        "X_train = X_train.astype('float')"
      ]
    },
    {
      "cell_type": "code",
      "execution_count": null,
      "metadata": {
        "colab": {
          "base_uri": "https://localhost:8080/"
        },
        "id": "7WNWjVb1qHTw",
        "outputId": "ec31e2b7-974e-48f8-f7b7-d7225df09857"
      },
      "outputs": [
        {
          "output_type": "stream",
          "name": "stdout",
          "text": [
            "<class 'pandas.core.frame.DataFrame'>\n",
            "RangeIndex: 85000 entries, 0 to 84999\n",
            "Columns: 177 entries, x0 to x112_Sep\n",
            "dtypes: float64(177)\n",
            "memory usage: 114.8 MB\n"
          ]
        }
      ],
      "source": [
        "# Cek tipe data\n",
        "X_train.info()"
      ]
    },
    {
      "cell_type": "markdown",
      "metadata": {
        "id": "iqIXuhMAr7ec"
      },
      "source": [
        "### Membuat Fungsi Preprocessing"
      ]
    },
    {
      "cell_type": "markdown",
      "source": [
        "Membuat fungsi preprocessing (untuk data validation dan test)"
      ],
      "metadata": {
        "id": "02DAOcj7TdMz"
      }
    },
    {
      "cell_type": "code",
      "execution_count": null,
      "metadata": {
        "id": "R7WCnmZvre-j"
      },
      "outputs": [],
      "source": [
        "# Membuat fungsi\n",
        "\n",
        "def preprocess(df):\n",
        "  # Imputation\n",
        "  df[numerical] = impute_median.transform(df[numerical])\n",
        "  df[categorical + bin_categorical] = impute_mode.transform(df[categorical + bin_categorical])\n",
        "\n",
        "  # Standardize\n",
        "  df[numerical] = std_scale.transform(df[numerical])\n",
        "\n",
        "  # Manual Encoding\n",
        "  df['x79'] = df['x79'].replace({'Laki-laki':0, 'Perempuan':1})\n",
        "\n",
        "  # One-hot Encoding\n",
        "  codes = encode.transform(df[categorical]).toarray()\n",
        "  feature_names = encode.get_feature_names(categorical)\n",
        "\n",
        "  df = pd.concat([df[numerical + bin_categorical].reset_index(drop=True), \n",
        "               pd.DataFrame(codes,columns=feature_names).astype(float).reset_index(drop=True)], axis=1)\n",
        "\n",
        "  # Data Types\n",
        "  df = df.astype('float')\n",
        "\n",
        "  return df"
      ]
    },
    {
      "cell_type": "code",
      "execution_count": null,
      "metadata": {
        "id": "pS9ESjWi-nZi"
      },
      "outputs": [],
      "source": [
        "# Apply fungsi pada validation set \n",
        "X_val = preprocess(X_val)"
      ]
    },
    {
      "cell_type": "markdown",
      "metadata": {
        "id": "XZ2-5IuC2jrA"
      },
      "source": [
        "## Feature Selection with Boruta Shap"
      ]
    },
    {
      "cell_type": "markdown",
      "source": [
        "Untuk memilih fitur mana yang sekiranya penting untuk prediksi, akan dilakukan feature selection menggunakan Boruta Shap."
      ],
      "metadata": {
        "id": "LQM3a7QM5qWG"
      }
    },
    {
      "cell_type": "code",
      "execution_count": null,
      "metadata": {
        "colab": {
          "base_uri": "https://localhost:8080/"
        },
        "outputId": "052c5e81-f8e4-4f5d-be6a-1de35b4bf613",
        "id": "6Pq_TpJo2jrT"
      },
      "outputs": [
        {
          "output_type": "stream",
          "name": "stderr",
          "text": [
            "/usr/local/lib/python3.7/dist-packages/statsmodels/tools/_testing.py:19: FutureWarning: pandas.util.testing is deprecated. Use the functions in the public API at pandas.testing instead.\n",
            "  import pandas.util.testing as tm\n"
          ]
        }
      ],
      "source": [
        "# Inisiasi model\n",
        "estimator = CatBoostClassifier(random_state=0)\n",
        "selector = BorutaShap(importance_measure = 'shap', classification = True, model=estimator)"
      ]
    },
    {
      "cell_type": "code",
      "execution_count": null,
      "metadata": {
        "colab": {
          "base_uri": "https://localhost:8080/",
          "height": 124,
          "referenced_widgets": [
            "dd5337f3081647c7abcce5dd1e538337",
            "7b104fbc97744278a1a2dcf72777df15",
            "971cd05d35e947e690efddd55582f419",
            "fe7f62b9ae3840f5be9d471a3923e2c5",
            "555f79fefe4f450d88775a4e88b34d50",
            "19a5185a20264f639d76e50ab93bc51a",
            "fcf7cd1632e2498eb9968f5dc6821c08",
            "5368299412644ed0984d991984cf9fd4",
            "1a8280bba6114e3d81e415721289aa59",
            "5831fb1933c749129290daedb5cda828",
            "245a0e1d0a0a4bb3a9490dcd3d1950e0"
          ]
        },
        "outputId": "f49dafb4-34bf-409c-abcb-3033ec40136a",
        "id": "nNI_wULd2jrW"
      },
      "outputs": [
        {
          "data": {
            "application/vnd.jupyter.widget-view+json": {
              "model_id": "dd5337f3081647c7abcce5dd1e538337",
              "version_major": 2,
              "version_minor": 0
            },
            "text/plain": [
              "  0%|          | 0/100 [00:00<?, ?it/s]"
            ]
          },
          "metadata": {},
          "output_type": "display_data"
        },
        {
          "output_type": "stream",
          "name": "stdout",
          "text": [
            "29 attributes confirmed important: ['x13', 'x41', 'x117', 'x37', 'x119', 'x96', 'x109', 'x72', 'x99', 'x36', 'x50', 'x64', 'x12', 'x61', 'x67', 'x15', 'x68', 'x65', 'x4', 'x105', 'x28', 'x86', 'x102', 'x53', 'x57', 'x55', 'x59', 'x44', 'x17']\n",
            "141 attributes confirmed unimportant: ['x106', 'x21_Oct', 'x43', 'x21_Nov', 'x31', 'x39', 'x122', 'x89_Jawa Barat', 'x112_Nov', 'x89_Sulawesi Tenggara', 'x112_Feb', 'x66', 'x73', 'x81', 'x38', 'x116', 'x26', 'x79', 'x0', 'x91', 'x89_Kalimantan Timur', 'x108_SMA/SMK', 'x89_Kalimantan Barat', 'x89_DKI Jakarta', 'x21_Apr', 'x80', 'x111', 'x89_DI Yogyakarta', 'x27', 'x14', 'x74', 'x21_May', 'x32', 'x21_Jun', 'x114', 'x30', 'x112_Jul', 'x22', 'x45', 'x89_Sumatera Selatan', 'x77', 'x89_Bengkulu', 'x89_Kalimantan Selatan', 'x54', 'x89_Bangka Belitung', 'x58', 'x108_SD', 'x85', 'x89_Jawa Tengah', 'x70', 'x6', 'x25', 'x20', 'x112_Sep', 'x89_Maluku Utara', 'x21_Jan', 'x112_May', 'x62', 'x112_Apr', 'x107', 'x89_Maluku', 'x2', 'x78', 'x7', 'x88', 'x115', 'x90', 'x47', 'x21_Aug', 'x89_Sumatera Utara', 'x108_Tidak sekolah', 'x87', 'x21_Feb', 'x108_SMP', 'x112_Jan', 'x89_Gorontalo', 'x89_NTT', 'x34', 'x112_Jun', 'x48', 'x120', 'x89_NTB', 'x21_Mar', 'x69', 'x112_Dec', 'x33', 'x97', 'x10', 'x113', 'x21_Sep', 'x89_Sumatera Barat', 'x101', 'x49', 'x83', 'x42', 'x8', 'x84', 'x46', 'x112_Mar', 'x112_Aug', 'x89_Sulawesi Tengah', 'x89_Kalimantan Tengah', 'x23', 'x1', 'x89_Sulawesi Barat', 'x3', 'x110', 'x35', 'x123', 'x71', 'x104', 'x89_Jambi', 'x19', 'x29', 'x5', 'x112_Oct', 'x56', 'x9', 'x11', 'x51', 'x21_Jul', 'x89_Jawa Timur', 'x89_Banten', 'x95', 'x89_Sulawesi Utara', 'x52', 'x108_S1/S2/S3', 'x40', 'x121', 'x89_Bali', 'x89_Kalimantan Utara', 'x63', 'x93', 'x24', 'x94', 'x103', 'x18', 'x76', 'x100', 'x16', 'x21_Dec']\n",
            "7 tentative attributes remains: ['x82', 'x98', 'x124', 'x92', 'x75', 'x118', 'x60']\n"
          ]
        }
      ],
      "source": [
        "# Fit selector\n",
        "selector.fit(X = X_train, y = y_train, n_trials = 100, sample = False, verbose = True)"
      ]
    },
    {
      "cell_type": "code",
      "source": [
        "# Fix fitur tentative\n",
        "selector.TentativeRoughFix()"
      ],
      "metadata": {
        "colab": {
          "base_uri": "https://localhost:8080/"
        },
        "outputId": "a8944616-8a81-44e0-a44c-8b0963f1808c",
        "id": "EKB-U6LYOIrY"
      },
      "execution_count": null,
      "outputs": [
        {
          "output_type": "stream",
          "name": "stdout",
          "text": [
            "0 tentative features are now accepted: []\n",
            "7 tentative features are now rejected: ['x82' 'x98' 'x124' 'x92' 'x75' 'x118' 'x60']\n"
          ]
        }
      ]
    },
    {
      "cell_type": "markdown",
      "source": [
        "Setelah dilakukan feature selection, terdapat 29 feature yang penting dan 148 feature yang bisa dibuang"
      ],
      "metadata": {
        "id": "7S_LnjRLXXW7"
      }
    },
    {
      "cell_type": "code",
      "source": [
        "# List kolom yang bisa dibuang \n",
        "saved_features_to_remove = ['x106', 'x21_Oct', 'x43', 'x21_Nov', 'x31', 'x39', 'x122', 'x89_Jawa Barat', 'x112_Nov', 'x89_Sulawesi Tenggara', 'x112_Feb', 'x66', 'x73', 'x81', 'x38', 'x116', 'x26', 'x79', 'x0', 'x91', 'x89_Kalimantan Timur', 'x108_SMA/SMK', 'x89_Kalimantan Barat', 'x89_DKI Jakarta', 'x21_Apr', 'x80', 'x111', 'x89_DI Yogyakarta', 'x27', 'x14', 'x74', 'x21_May', 'x32', 'x21_Jun', 'x114', 'x30', 'x112_Jul', 'x22', 'x45', 'x89_Sumatera Selatan', 'x77', 'x89_Bengkulu', 'x89_Kalimantan Selatan', 'x54', 'x89_Bangka Belitung', 'x58', 'x108_SD', 'x85', 'x89_Jawa Tengah', 'x70', 'x6', 'x25', 'x20', 'x112_Sep', 'x89_Maluku Utara', 'x21_Jan', 'x112_May', 'x62', 'x112_Apr', 'x107', 'x89_Maluku', 'x2', 'x78', 'x7', 'x88', 'x115', 'x90', 'x47', 'x21_Aug', 'x89_Sumatera Utara', 'x108_Tidak sekolah', 'x87', 'x21_Feb', 'x108_SMP', 'x112_Jan', 'x89_Gorontalo', 'x89_NTT', 'x34', 'x112_Jun', 'x48', 'x120', 'x89_NTB', 'x21_Mar', 'x69', 'x112_Dec', 'x33', 'x97', 'x10', 'x113', 'x21_Sep', 'x89_Sumatera Barat', 'x101', 'x49', 'x83', 'x42', 'x8', 'x84', 'x46', 'x112_Mar', 'x112_Aug', 'x89_Sulawesi Tengah', 'x89_Kalimantan Tengah', 'x23', 'x1', 'x89_Sulawesi Barat', 'x3', 'x110', 'x35', 'x123', 'x71', 'x104', 'x89_Jambi', 'x19', 'x29', 'x5', 'x112_Oct', 'x56', 'x9', 'x11', 'x51', 'x21_Jul', 'x89_Jawa Timur', 'x89_Banten', 'x95', 'x89_Sulawesi Utara', 'x52', 'x108_S1/S2/S3', 'x40', 'x121', 'x89_Bali', 'x89_Kalimantan Utara', 'x63', 'x93', 'x24', 'x94', 'x103', 'x18', 'x76', 'x100', 'x16', 'x21_Dec', 'x82', 'x98', 'x124', 'x92', 'x75', 'x118', 'x60']"
      ],
      "metadata": {
        "id": "v4w9Z_SwsHco"
      },
      "execution_count": null,
      "outputs": []
    },
    {
      "cell_type": "code",
      "source": [
        "# Eleminasi kolom yang tidak relevan\n",
        "X_val_reduced = X_val.drop(columns = saved_features_to_remove)\n",
        "X_train_reduced = X_train.drop(columns = saved_features_to_remove)"
      ],
      "metadata": {
        "id": "xvJfGIXmKUQ9"
      },
      "execution_count": null,
      "outputs": []
    },
    {
      "cell_type": "markdown",
      "metadata": {
        "id": "5hmHCSm8Ljgg"
      },
      "source": [
        "## Resampling with SMOTEENN"
      ]
    },
    {
      "cell_type": "markdown",
      "source": [
        "Karena jumlah distribusi class tidak seimbang, maka akan dilakukan resampling untuk mengatasi class imbalance."
      ],
      "metadata": {
        "id": "hvXyzK3lX7_j"
      }
    },
    {
      "cell_type": "code",
      "execution_count": null,
      "metadata": {
        "colab": {
          "base_uri": "https://localhost:8080/"
        },
        "outputId": "0f14fd79-fd13-4fec-db85-fbe49240b155",
        "id": "qO9bVgaUwAF-"
      },
      "outputs": [
        {
          "output_type": "stream",
          "name": "stdout",
          "text": [
            "Sebelum resampling:\n",
            "0    70557\n",
            "1    14443\n",
            "Name: y, dtype: int64\n",
            "\n",
            "Sesudah resampling:\n",
            "1    44520\n",
            "0    44208\n",
            "Name: y, dtype: int64\n"
          ]
        }
      ],
      "source": [
        "# Cek distribusi\n",
        "print(\"Sebelum resampling:\")\n",
        "print(y_train.value_counts())\n",
        "\n",
        "# Resampling\n",
        "resample=SMOTEENN(enn=EditedNearestNeighbours(sampling_strategy='all'), random_state=0, n_jobs=-1, sampling_strategy=0.7)\n",
        "X_train_enn_reduced, y_train_enn= resample.fit_resample(X_train_reduced, y_train)\n",
        "\n",
        "# Cek distribusi\n",
        "print(\"\\nSesudah resampling:\")\n",
        "print(y_train_enn.value_counts())"
      ]
    },
    {
      "cell_type": "markdown",
      "metadata": {
        "id": "9E4tRbgaMELj"
      },
      "source": [
        "## Model Selection"
      ]
    },
    {
      "cell_type": "code",
      "execution_count": null,
      "metadata": {
        "id": "4UtOkvlXRAkw"
      },
      "outputs": [],
      "source": [
        "# Assign classifier model\n",
        "logistic = LogisticRegression(random_state=0, max_iter=1000, n_jobs=-1)\n",
        "rf = RandomForestClassifier(random_state=0, n_jobs=-1)\n",
        "xgboost = XGBClassifier(random_state=0, n_jobs=-1)\n",
        "lgbm = LGBMClassifier(random_state=0, n_jobs=-1)\n",
        "catboost = CatBoostClassifier(random_state=0, verbose=False)\n",
        "\n",
        "classifiers = {'LogReg': logistic,\n",
        "               'Random Forest': rf,\n",
        "               'XGBoost': xgboost,\n",
        "               'LGBM': lgbm,\n",
        "               'CatBoost': catboost}"
      ]
    },
    {
      "cell_type": "code",
      "execution_count": null,
      "metadata": {
        "id": "QPpospRWLJxL"
      },
      "outputs": [],
      "source": [
        "# Membuat grafik auc\n",
        "\n",
        "def training(xtrain, xval, ytrain):\n",
        "\n",
        "  fig, ax = plt.subplots(1,2,figsize=(15,6))\n",
        "\n",
        "  for key, value in classifiers.items():\n",
        "    \n",
        "    # Assign Classifier \n",
        "    model = value\n",
        "\n",
        "    # Fit and Predict\n",
        "    model.fit(xtrain, ytrain)\n",
        "    y_predict = model.predict(xval)\n",
        "    y_train_predict = model.predict(xtrain)\n",
        "\n",
        "    # calculate model roc curve\n",
        "    fpr, tpr, thresholds = roc_curve(y_val, y_predict)\n",
        "    nilai_roc = auc(fpr, tpr).round(3)\n",
        "    label = str(key) + \" : \" + str(nilai_roc)\n",
        "\n",
        "    # plot roc curve\n",
        "    ax[0].plot(fpr, tpr, marker=',', label=label)\n",
        "    ax[0].set_xlabel('False Positive Rate')\n",
        "    ax[0].set_ylabel('True Positive Rate')\n",
        "    ax[0].set_title('ROC AUC')\n",
        "    ax[0].legend()\n",
        "\n",
        "    # calculate model precision-recall curve\n",
        "    precision, recall, _ = precision_recall_curve(y_val, y_predict)\n",
        "    pr_auc_score = auc(recall, precision).round(3)\n",
        "    label = str(key) + \" : \" + str(pr_auc_score)\n",
        "\n",
        "    # plot precision-recall curve\n",
        "    ax[1].plot(recall, precision, marker=',', label=label)\n",
        "    ax[1].set_xlabel('Recall')\n",
        "    ax[1].set_ylabel('Precision')\n",
        "    ax[1].set_title('PR AUC')\n",
        "    ax[1].legend()\n",
        "\n",
        "  plt.show()"
      ]
    },
    {
      "cell_type": "code",
      "source": [
        "training(X_train_enn_reduced, X_val_reduced, y_train_enn)"
      ],
      "metadata": {
        "id": "2105hf06ex4g"
      },
      "execution_count": null,
      "outputs": []
    },
    {
      "cell_type": "markdown",
      "source": [
        "Pemilihan model:\n",
        "  - Dari beberapa model yang dicoba, model CatBoost akan dipilih karena memiliki roc auc dan pr auc yang paling baik."
      ],
      "metadata": {
        "id": "nO4oICQAbXc6"
      }
    },
    {
      "cell_type": "markdown",
      "source": [
        "## Hyperparamater Tuning with Optuna"
      ],
      "metadata": {
        "id": "T_fAiroHfPJM"
      }
    },
    {
      "cell_type": "code",
      "source": [
        "# Membuat pool validation set\n",
        "val_pool = Pool(X_val_reduced, y_val)"
      ],
      "metadata": {
        "id": "hDiYSHDIilxx"
      },
      "execution_count": null,
      "outputs": []
    },
    {
      "cell_type": "code",
      "source": [
        "# Membuat fungsi objective optuna\n",
        "\n",
        "def objective(trial):\n",
        "\n",
        "    param = {\n",
        "        \"learning_rate\": trial.suggest_loguniform(\"learning_rate\", 1e-2, 1e0),\n",
        "        \"l2_leaf_reg\": trial.suggest_int(\"l2_leaf_reg\", 1, 30),\n",
        "        \"random_strength\": trial.suggest_int(\"random_strength\", 1, 100),\n",
        "        \"depth\": trial.suggest_int(\"depth\", 1, 10),\n",
        "        \"bootstrap_type\": trial.suggest_categorical(\"bootstrap_type\", [\"Bayesian\", \"Bernoulli\", \"MVS\"]),\n",
        "    }\n",
        "\n",
        "    if param[\"bootstrap_type\"] == \"Bayesian\":\n",
        "        param[\"bagging_temperature\"] = trial.suggest_float(\"bagging_temperature\", 0, 10)\n",
        "    elif param[\"bootstrap_type\"] == \"Bernoulli\":\n",
        "        param[\"subsample\"] = trial.suggest_float(\"subsample\", 0.1, 1)\n",
        "\n",
        "    model = CatBoostClassifier(**param, eval_metric='AUC', auto_class_weights='Balanced')\n",
        "\n",
        "    model.fit(X_train_enn_reduced, y_train_enn, eval_set=val_pool, verbose=0, early_stopping_rounds=100)\n",
        "\n",
        "    y_predict = model.predict(X_val_reduced)\n",
        "    nilai_roc = roc_auc_score(y_val, y_predict)\n",
        "\n",
        "    return nilai_roc"
      ],
      "metadata": {
        "id": "39iN3pphfQr7"
      },
      "execution_count": null,
      "outputs": []
    },
    {
      "cell_type": "code",
      "source": [
        "# Membuat study optuna\n",
        "study = optuna.create_study(sampler=TPESampler(), direction=\"maximize\")\n",
        "study.optimize(objective, n_trials=100, n_jobs=-1)\n",
        "\n",
        "# Melihat hasil study\n",
        "print(\"Number of completed trials: {}\".format(len(study.trials)))\n",
        "print(\"Best trial:\")\n",
        "trial = study.best_trial\n",
        "print(\"\\tBest Score: {}\".format(trial.value))\n",
        "print(\"\\tBest Params: \")\n",
        "for key, value in trial.params.items():\n",
        "    print(\"    {}: {}\".format(key, value))"
      ],
      "metadata": {
        "colab": {
          "base_uri": "https://localhost:8080/"
        },
        "outputId": "9bd8e5a4-42a7-4440-cc50-9bcc26c1e7c9",
        "id": "zRBe_FjVhTLy"
      },
      "execution_count": null,
      "outputs": [
        {
          "output_type": "stream",
          "name": "stderr",
          "text": [
            "\u001b[32m[I 2022-03-10 01:51:08,515]\u001b[0m A new study created in memory with name: no-name-15e34292-f472-4891-be0f-5b1ae4ffa812\u001b[0m\n",
            "Custom logger is already specified. Specify more than one logger at same time is not thread safe.\u001b[32m[I 2022-03-10 01:52:16,610]\u001b[0m Trial 0 finished with value: 0.7417146772822985 and parameters: {'learning_rate': 0.016169596314861916, 'l2_leaf_reg': 5, 'random_strength': 55, 'depth': 6, 'bootstrap_type': 'Bernoulli', 'subsample': 0.3742981278431585}. Best is trial 0 with value: 0.7417146772822985.\u001b[0m\n",
            "\u001b[32m[I 2022-03-10 01:52:44,627]\u001b[0m Trial 1 finished with value: 0.7288504558898737 and parameters: {'learning_rate': 0.3657988983847234, 'l2_leaf_reg': 13, 'random_strength': 37, 'depth': 10, 'bootstrap_type': 'Bayesian', 'bagging_temperature': 7.220931553993186}. Best is trial 0 with value: 0.7417146772822985.\u001b[0m\n",
            "\u001b[32m[I 2022-03-10 01:54:23,130]\u001b[0m Trial 2 finished with value: 0.741601704023042 and parameters: {'learning_rate': 0.07733840761537274, 'l2_leaf_reg': 29, 'random_strength': 96, 'depth': 10, 'bootstrap_type': 'Bernoulli', 'subsample': 0.9337810457112259}. Best is trial 0 with value: 0.7417146772822985.\u001b[0m\n",
            "\u001b[32m[I 2022-03-10 01:54:26,470]\u001b[0m Trial 3 finished with value: 0.7313491011087511 and parameters: {'learning_rate': 0.02249724792243059, 'l2_leaf_reg': 1, 'random_strength': 15, 'depth': 7, 'bootstrap_type': 'MVS'}. Best is trial 0 with value: 0.7417146772822985.\u001b[0m\n",
            "\u001b[32m[I 2022-03-10 01:55:20,955]\u001b[0m Trial 4 finished with value: 0.7240023418280634 and parameters: {'learning_rate': 0.5575219974989131, 'l2_leaf_reg': 27, 'random_strength': 29, 'depth': 7, 'bootstrap_type': 'Bayesian', 'bagging_temperature': 9.70227114061333}. Best is trial 0 with value: 0.7417146772822985.\u001b[0m\n",
            "\u001b[32m[I 2022-03-10 01:55:40,990]\u001b[0m Trial 6 finished with value: 0.7309043132090742 and parameters: {'learning_rate': 0.3651704462036148, 'l2_leaf_reg': 9, 'random_strength': 1, 'depth': 4, 'bootstrap_type': 'MVS'}. Best is trial 0 with value: 0.7417146772822985.\u001b[0m\n",
            "\u001b[32m[I 2022-03-10 01:56:08,962]\u001b[0m Trial 5 finished with value: 0.7383952705433073 and parameters: {'learning_rate': 0.021176813575875853, 'l2_leaf_reg': 26, 'random_strength': 96, 'depth': 8, 'bootstrap_type': 'Bernoulli', 'subsample': 0.4618049634949837}. Best is trial 0 with value: 0.7417146772822985.\u001b[0m\n",
            "\u001b[32m[I 2022-03-10 01:56:25,918]\u001b[0m Trial 7 finished with value: 0.7363410351236714 and parameters: {'learning_rate': 0.12227105578613053, 'l2_leaf_reg': 14, 'random_strength': 47, 'depth': 4, 'bootstrap_type': 'MVS'}. Best is trial 0 with value: 0.7417146772822985.\u001b[0m\n",
            "\u001b[32m[I 2022-03-10 01:56:40,650]\u001b[0m Trial 8 finished with value: 0.7359704021718846 and parameters: {'learning_rate': 0.16684486675127275, 'l2_leaf_reg': 21, 'random_strength': 53, 'depth': 9, 'bootstrap_type': 'Bernoulli', 'subsample': 0.5746324943906683}. Best is trial 0 with value: 0.7417146772822985.\u001b[0m\n",
            "\u001b[32m[I 2022-03-10 01:57:28,834]\u001b[0m Trial 9 finished with value: 0.7383288509001579 and parameters: {'learning_rate': 0.07219907152614063, 'l2_leaf_reg': 15, 'random_strength': 100, 'depth': 7, 'bootstrap_type': 'Bayesian', 'bagging_temperature': 2.1366420143689413}. Best is trial 0 with value: 0.7417146772822985.\u001b[0m\n",
            "\u001b[32m[I 2022-03-10 01:57:36,548]\u001b[0m Trial 11 finished with value: 0.61790959675305 and parameters: {'learning_rate': 0.010421864456550235, 'l2_leaf_reg': 1, 'random_strength': 68, 'depth': 1, 'bootstrap_type': 'Bernoulli', 'subsample': 0.11347056497796304}. Best is trial 0 with value: 0.7417146772822985.\u001b[0m\n",
            "\u001b[32m[I 2022-03-10 01:58:22,572]\u001b[0m Trial 10 finished with value: 0.7366483992692705 and parameters: {'learning_rate': 0.01985744829227205, 'l2_leaf_reg': 15, 'random_strength': 16, 'depth': 8, 'bootstrap_type': 'Bernoulli', 'subsample': 0.4579985736111861}. Best is trial 0 with value: 0.7417146772822985.\u001b[0m\n",
            "\u001b[32m[I 2022-03-10 01:58:36,752]\u001b[0m Trial 12 finished with value: 0.7307606350436276 and parameters: {'learning_rate': 0.045330187564467814, 'l2_leaf_reg': 7, 'random_strength': 76, 'depth': 5, 'bootstrap_type': 'Bernoulli', 'subsample': 0.9395759763903928}. Best is trial 0 with value: 0.7417146772822985.\u001b[0m\n",
            "\u001b[32m[I 2022-03-10 01:59:15,409]\u001b[0m Trial 14 finished with value: 0.6878042349706417 and parameters: {'learning_rate': 0.04878239473134458, 'l2_leaf_reg': 30, 'random_strength': 74, 'depth': 2, 'bootstrap_type': 'Bernoulli', 'subsample': 0.9329100764881257}. Best is trial 0 with value: 0.7417146772822985.\u001b[0m\n",
            "\u001b[32m[I 2022-03-10 01:59:22,451]\u001b[0m Trial 13 finished with value: 0.7307560033132942 and parameters: {'learning_rate': 0.04913188248403866, 'l2_leaf_reg': 8, 'random_strength': 77, 'depth': 5, 'bootstrap_type': 'Bernoulli', 'subsample': 0.8776293476175699}. Best is trial 0 with value: 0.7417146772822985.\u001b[0m\n",
            "\u001b[32m[I 2022-03-10 01:59:51,969]\u001b[0m Trial 15 finished with value: 0.7320024586610978 and parameters: {'learning_rate': 0.19236593479034161, 'l2_leaf_reg': 21, 'random_strength': 82, 'depth': 3, 'bootstrap_type': 'Bernoulli', 'subsample': 0.21827456903866227}. Best is trial 0 with value: 0.7417146772822985.\u001b[0m\n",
            "\u001b[32m[I 2022-03-10 02:03:05,783]\u001b[0m Trial 16 finished with value: 0.7424407561517177 and parameters: {'learning_rate': 0.01077762128579348, 'l2_leaf_reg': 21, 'random_strength': 57, 'depth': 10, 'bootstrap_type': 'Bernoulli', 'subsample': 0.2253268794527331}. Best is trial 16 with value: 0.7424407561517177.\u001b[0m\n",
            "\u001b[32m[I 2022-03-10 02:04:36,853]\u001b[0m Trial 17 finished with value: 0.7436856360810407 and parameters: {'learning_rate': 0.01163112972156991, 'l2_leaf_reg': 19, 'random_strength': 59, 'depth': 10, 'bootstrap_type': 'Bernoulli', 'subsample': 0.6730042431836094}. Best is trial 17 with value: 0.7436856360810407.\u001b[0m\n",
            "\u001b[32m[I 2022-03-10 02:05:43,962]\u001b[0m Trial 18 finished with value: 0.7384775388963734 and parameters: {'learning_rate': 0.010144671162856694, 'l2_leaf_reg': 20, 'random_strength': 55, 'depth': 9, 'bootstrap_type': 'Bernoulli', 'subsample': 0.3129228614456808}. Best is trial 17 with value: 0.7436856360810407.\u001b[0m\n",
            "\u001b[32m[I 2022-03-10 02:07:44,929]\u001b[0m Trial 19 finished with value: 0.7396652626432138 and parameters: {'learning_rate': 0.010104827905938344, 'l2_leaf_reg': 20, 'random_strength': 61, 'depth': 9, 'bootstrap_type': 'Bayesian', 'bagging_temperature': 1.4579296399826691}. Best is trial 17 with value: 0.7436856360810407.\u001b[0m\n",
            "\u001b[32m[I 2022-03-10 02:08:44,118]\u001b[0m Trial 20 finished with value: 0.7493877529929092 and parameters: {'learning_rate': 0.03266052841694469, 'l2_leaf_reg': 19, 'random_strength': 62, 'depth': 10, 'bootstrap_type': 'MVS'}. Best is trial 20 with value: 0.7493877529929092.\u001b[0m\n",
            "\u001b[32m[I 2022-03-10 02:10:59,114]\u001b[0m Trial 21 finished with value: 0.7411460772442175 and parameters: {'learning_rate': 0.03362107503505701, 'l2_leaf_reg': 24, 'random_strength': 40, 'depth': 10, 'bootstrap_type': 'MVS'}. Best is trial 20 with value: 0.7493877529929092.\u001b[0m\n",
            "\u001b[32m[I 2022-03-10 02:11:05,080]\u001b[0m Trial 22 finished with value: 0.7432346410325494 and parameters: {'learning_rate': 0.03108519800581732, 'l2_leaf_reg': 24, 'random_strength': 43, 'depth': 10, 'bootstrap_type': 'MVS'}. Best is trial 20 with value: 0.7493877529929092.\u001b[0m\n",
            "\u001b[32m[I 2022-03-10 02:12:44,498]\u001b[0m Trial 24 finished with value: 0.741953904578604 and parameters: {'learning_rate': 0.026434039086008315, 'l2_leaf_reg': 18, 'random_strength': 44, 'depth': 8, 'bootstrap_type': 'MVS'}. Best is trial 20 with value: 0.7493877529929092.\u001b[0m\n",
            "\u001b[32m[I 2022-03-10 02:14:02,504]\u001b[0m Trial 23 finished with value: 0.7506697340274543 and parameters: {'learning_rate': 0.02919499979102053, 'l2_leaf_reg': 17, 'random_strength': 60, 'depth': 10, 'bootstrap_type': 'MVS'}. Best is trial 23 with value: 0.7506697340274543.\u001b[0m\n",
            "\u001b[32m[I 2022-03-10 02:15:47,309]\u001b[0m Trial 25 finished with value: 0.7506574142549347 and parameters: {'learning_rate': 0.015039383194504288, 'l2_leaf_reg': 24, 'random_strength': 26, 'depth': 9, 'bootstrap_type': 'MVS'}. Best is trial 23 with value: 0.7506697340274543.\u001b[0m\n",
            "\u001b[32m[I 2022-03-10 02:17:06,444]\u001b[0m Trial 26 finished with value: 0.747576179281867 and parameters: {'learning_rate': 0.014863105815972126, 'l2_leaf_reg': 18, 'random_strength': 65, 'depth': 9, 'bootstrap_type': 'MVS'}. Best is trial 23 with value: 0.7506697340274543.\u001b[0m\n",
            "\u001b[32m[I 2022-03-10 02:17:20,737]\u001b[0m Trial 27 finished with value: 0.7469922031594136 and parameters: {'learning_rate': 0.037601686852321584, 'l2_leaf_reg': 12, 'random_strength': 29, 'depth': 9, 'bootstrap_type': 'MVS'}. Best is trial 23 with value: 0.7506697340274543.\u001b[0m\n",
            "\u001b[32m[I 2022-03-10 02:18:15,044]\u001b[0m Trial 29 finished with value: 0.733188654252012 and parameters: {'learning_rate': 0.06630057427357537, 'l2_leaf_reg': 24, 'random_strength': 27, 'depth': 8, 'bootstrap_type': 'MVS'}. Best is trial 23 with value: 0.7506697340274543.\u001b[0m\n",
            "\u001b[32m[I 2022-03-10 02:18:17,175]\u001b[0m Trial 28 finished with value: 0.7444853972728056 and parameters: {'learning_rate': 0.034982707414221374, 'l2_leaf_reg': 11, 'random_strength': 33, 'depth': 8, 'bootstrap_type': 'MVS'}. Best is trial 23 with value: 0.7506697340274543.\u001b[0m\n",
            "\u001b[32m[I 2022-03-10 02:19:29,274]\u001b[0m Trial 30 finished with value: 0.7340057923096199 and parameters: {'learning_rate': 0.015497682908953087, 'l2_leaf_reg': 11, 'random_strength': 13, 'depth': 6, 'bootstrap_type': 'MVS'}. Best is trial 23 with value: 0.7506697340274543.\u001b[0m\n",
            "\u001b[32m[I 2022-03-10 02:19:31,227]\u001b[0m Trial 31 finished with value: 0.7298467977996698 and parameters: {'learning_rate': 0.014225569158613819, 'l2_leaf_reg': 17, 'random_strength': 85, 'depth': 6, 'bootstrap_type': 'MVS'}. Best is trial 23 with value: 0.7506697340274543.\u001b[0m\n",
            "\u001b[32m[I 2022-03-10 02:22:29,071]\u001b[0m Trial 32 finished with value: 0.7480024402602099 and parameters: {'learning_rate': 0.015107859726720746, 'l2_leaf_reg': 17, 'random_strength': 66, 'depth': 9, 'bootstrap_type': 'MVS'}. Best is trial 23 with value: 0.7506697340274543.\u001b[0m\n",
            "\u001b[32m[I 2022-03-10 02:22:34,177]\u001b[0m Trial 33 finished with value: 0.748949124979492 and parameters: {'learning_rate': 0.018446140132799608, 'l2_leaf_reg': 16, 'random_strength': 67, 'depth': 9, 'bootstrap_type': 'MVS'}. Best is trial 23 with value: 0.7506697340274543.\u001b[0m\n",
            "\u001b[32m[I 2022-03-10 02:25:31,874]\u001b[0m Trial 34 finished with value: 0.7453920191001215 and parameters: {'learning_rate': 0.01912917155029304, 'l2_leaf_reg': 16, 'random_strength': 69, 'depth': 9, 'bootstrap_type': 'MVS'}. Best is trial 23 with value: 0.7506697340274543.\u001b[0m\n",
            "\u001b[32m[I 2022-03-10 02:26:33,079]\u001b[0m Trial 35 finished with value: 0.7472856248514578 and parameters: {'learning_rate': 0.02462791624698416, 'l2_leaf_reg': 23, 'random_strength': 51, 'depth': 10, 'bootstrap_type': 'MVS'}. Best is trial 23 with value: 0.7506697340274543.\u001b[0m\n",
            "\u001b[32m[I 2022-03-10 02:28:16,863]\u001b[0m Trial 37 finished with value: 0.7323515083796981 and parameters: {'learning_rate': 0.026514340891418475, 'l2_leaf_reg': 13, 'random_strength': 89, 'depth': 7, 'bootstrap_type': 'MVS'}. Best is trial 23 with value: 0.7506697340274543.\u001b[0m\n",
            "\u001b[32m[I 2022-03-10 02:29:20,486]\u001b[0m Trial 36 finished with value: 0.7422241676189809 and parameters: {'learning_rate': 0.026556496339970904, 'l2_leaf_reg': 22, 'random_strength': 51, 'depth': 10, 'bootstrap_type': 'MVS'}. Best is trial 23 with value: 0.7506697340274543.\u001b[0m\n",
            "\u001b[32m[I 2022-03-10 02:30:11,808]\u001b[0m Trial 38 finished with value: 0.7432870709595895 and parameters: {'learning_rate': 0.057098664184168764, 'l2_leaf_reg': 27, 'random_strength': 62, 'depth': 10, 'bootstrap_type': 'Bayesian', 'bagging_temperature': 4.9845755662197595}. Best is trial 23 with value: 0.7506697340274543.\u001b[0m\n",
            "\u001b[32m[I 2022-03-10 02:30:26,671]\u001b[0m Trial 40 finished with value: 0.7246969595904215 and parameters: {'learning_rate': 0.8964377415052975, 'l2_leaf_reg': 27, 'random_strength': 22, 'depth': 7, 'bootstrap_type': 'MVS'}. Best is trial 23 with value: 0.7506697340274543.\u001b[0m\n",
            "\u001b[32m[I 2022-03-10 02:31:04,894]\u001b[0m Trial 41 finished with value: 0.7294972281929708 and parameters: {'learning_rate': 0.09406688526453584, 'l2_leaf_reg': 26, 'random_strength': 36, 'depth': 8, 'bootstrap_type': 'MVS'}. Best is trial 23 with value: 0.7506697340274543.\u001b[0m\n",
            "\u001b[32m[I 2022-03-10 02:31:05,398]\u001b[0m Trial 39 finished with value: 0.7498434742968426 and parameters: {'learning_rate': 0.05796942991705708, 'l2_leaf_reg': 26, 'random_strength': 61, 'depth': 7, 'bootstrap_type': 'Bayesian', 'bagging_temperature': 4.92599428171144}. Best is trial 23 with value: 0.7506697340274543.\u001b[0m\n",
            "\u001b[32m[I 2022-03-10 02:34:05,824]\u001b[0m Trial 42 finished with value: 0.7469597337845247 and parameters: {'learning_rate': 0.017218564763439616, 'l2_leaf_reg': 17, 'random_strength': 71, 'depth': 9, 'bootstrap_type': 'MVS'}. Best is trial 23 with value: 0.7506697340274543.\u001b[0m\n",
            "\u001b[32m[I 2022-03-10 02:34:21,818]\u001b[0m Trial 43 finished with value: 0.7480132791393577 and parameters: {'learning_rate': 0.018631124899631535, 'l2_leaf_reg': 29, 'random_strength': 72, 'depth': 9, 'bootstrap_type': 'Bayesian', 'bagging_temperature': 4.726022152857041}. Best is trial 23 with value: 0.7506697340274543.\u001b[0m\n",
            "\u001b[32m[I 2022-03-10 02:35:42,682]\u001b[0m Trial 44 finished with value: 0.7495747394123923 and parameters: {'learning_rate': 0.038484694015752795, 'l2_leaf_reg': 29, 'random_strength': 5, 'depth': 7, 'bootstrap_type': 'Bayesian', 'bagging_temperature': 4.791687435284566}. Best is trial 23 with value: 0.7506697340274543.\u001b[0m\n",
            "\u001b[32m[I 2022-03-10 02:35:54,519]\u001b[0m Trial 45 finished with value: 0.7416376078102189 and parameters: {'learning_rate': 0.039000695379229344, 'l2_leaf_reg': 25, 'random_strength': 6, 'depth': 7, 'bootstrap_type': 'Bayesian', 'bagging_temperature': 7.273742079199249}. Best is trial 23 with value: 0.7506697340274543.\u001b[0m\n",
            "\u001b[32m[I 2022-03-10 02:37:13,817]\u001b[0m Trial 47 finished with value: 0.745215966084895 and parameters: {'learning_rate': 0.08066858496916633, 'l2_leaf_reg': 28, 'random_strength': 3, 'depth': 6, 'bootstrap_type': 'Bayesian', 'bagging_temperature': 3.528308529333253}. Best is trial 23 with value: 0.7506697340274543.\u001b[0m\n",
            "\u001b[32m[I 2022-03-10 02:37:15,162]\u001b[0m Trial 46 finished with value: 0.7461164280259511 and parameters: {'learning_rate': 0.04104089900217875, 'l2_leaf_reg': 29, 'random_strength': 1, 'depth': 7, 'bootstrap_type': 'Bayesian', 'bagging_temperature': 3.3977333081168997}. Best is trial 23 with value: 0.7506697340274543.\u001b[0m\n",
            "\u001b[32m[I 2022-03-10 02:38:00,903]\u001b[0m Trial 48 finished with value: 0.7362009331581763 and parameters: {'learning_rate': 0.060690861352374524, 'l2_leaf_reg': 30, 'random_strength': 12, 'depth': 5, 'bootstrap_type': 'Bayesian', 'bagging_temperature': 6.8406305000403105}. Best is trial 23 with value: 0.7506697340274543.\u001b[0m\n",
            "\u001b[32m[I 2022-03-10 02:38:10,564]\u001b[0m Trial 49 finished with value: 0.7379138069013981 and parameters: {'learning_rate': 0.056761014070271516, 'l2_leaf_reg': 26, 'random_strength': 10, 'depth': 5, 'bootstrap_type': 'Bayesian', 'bagging_temperature': 6.902378098762358}. Best is trial 23 with value: 0.7506697340274543.\u001b[0m\n",
            "\u001b[32m[I 2022-03-10 02:38:56,311]\u001b[0m Trial 50 finished with value: 0.7310020521716214 and parameters: {'learning_rate': 0.030007226041911205, 'l2_leaf_reg': 22, 'random_strength': 47, 'depth': 4, 'bootstrap_type': 'Bayesian', 'bagging_temperature': 6.075889879381357}. Best is trial 23 with value: 0.7506697340274543.\u001b[0m\n",
            "\u001b[32m[I 2022-03-10 02:38:59,353]\u001b[0m Trial 51 finished with value: 0.7305057953501775 and parameters: {'learning_rate': 0.09874443394727161, 'l2_leaf_reg': 22, 'random_strength': 19, 'depth': 4, 'bootstrap_type': 'Bayesian', 'bagging_temperature': 0.002888792459737388}. Best is trial 23 with value: 0.7506697340274543.\u001b[0m\n",
            "\u001b[32m[I 2022-03-10 02:39:34,843]\u001b[0m Trial 53 finished with value: 0.731968933755827 and parameters: {'learning_rate': 0.13286282825018036, 'l2_leaf_reg': 14, 'random_strength': 64, 'depth': 8, 'bootstrap_type': 'Bayesian', 'bagging_temperature': 9.08052761058458}. Best is trial 23 with value: 0.7506697340274543.\u001b[0m\n",
            "\u001b[32m[I 2022-03-10 02:41:14,854]\u001b[0m Trial 52 finished with value: 0.7490217045089014 and parameters: {'learning_rate': 0.021878992819091194, 'l2_leaf_reg': 19, 'random_strength': 20, 'depth': 8, 'bootstrap_type': 'Bayesian', 'bagging_temperature': 3.4810121876449562}. Best is trial 23 with value: 0.7506697340274543.\u001b[0m\n",
            "\u001b[32m[I 2022-03-10 02:43:40,178]\u001b[0m Trial 55 finished with value: 0.7480625582294363 and parameters: {'learning_rate': 0.02315024056039628, 'l2_leaf_reg': 20, 'random_strength': 6, 'depth': 8, 'bootstrap_type': 'Bayesian', 'bagging_temperature': 3.7971480195881737}. Best is trial 23 with value: 0.7506697340274543.\u001b[0m\n",
            "\u001b[32m[I 2022-03-10 02:43:58,473]\u001b[0m Trial 54 finished with value: 0.7467064222470012 and parameters: {'learning_rate': 0.020241855476002952, 'l2_leaf_reg': 19, 'random_strength': 58, 'depth': 10, 'bootstrap_type': 'MVS'}. Best is trial 23 with value: 0.7506697340274543.\u001b[0m\n",
            "\u001b[32m[I 2022-03-10 02:45:20,252]\u001b[0m Trial 57 finished with value: 0.7447111074785461 and parameters: {'learning_rate': 0.046948783634965664, 'l2_leaf_reg': 4, 'random_strength': 22, 'depth': 8, 'bootstrap_type': 'Bayesian', 'bagging_temperature': 5.734562887390103}. Best is trial 23 with value: 0.7506697340274543.\u001b[0m\n",
            "\u001b[32m[I 2022-03-10 02:45:21,428]\u001b[0m Trial 56 finished with value: 0.7452269467517061 and parameters: {'learning_rate': 0.04836772885247425, 'l2_leaf_reg': 19, 'random_strength': 24, 'depth': 7, 'bootstrap_type': 'Bayesian', 'bagging_temperature': 5.557921842304065}. Best is trial 23 with value: 0.7506697340274543.\u001b[0m\n",
            "\u001b[32m[I 2022-03-10 02:47:11,253]\u001b[0m Trial 58 finished with value: 0.7378319166487673 and parameters: {'learning_rate': 0.013080563253504674, 'l2_leaf_reg': 28, 'random_strength': 55, 'depth': 7, 'bootstrap_type': 'Bayesian', 'bagging_temperature': 2.593819957829624}. Best is trial 23 with value: 0.7506697340274543.\u001b[0m\n",
            "\u001b[32m[I 2022-03-10 02:50:31,736]\u001b[0m Trial 59 finished with value: 0.7506527825246012 and parameters: {'learning_rate': 0.029867205307913234, 'l2_leaf_reg': 28, 'random_strength': 16, 'depth': 10, 'bootstrap_type': 'Bayesian', 'bagging_temperature': 4.215550042609515}. Best is trial 23 with value: 0.7506697340274543.\u001b[0m\n",
            "\u001b[32m[I 2022-03-10 02:52:20,992]\u001b[0m Trial 60 finished with value: 0.7502620472329995 and parameters: {'learning_rate': 0.030165017531920774, 'l2_leaf_reg': 25, 'random_strength': 79, 'depth': 10, 'bootstrap_type': 'Bayesian', 'bagging_temperature': 4.332163437619627}. Best is trial 23 with value: 0.7506697340274543.\u001b[0m\n",
            "\u001b[32m[I 2022-03-10 02:53:03,325]\u001b[0m Trial 61 finished with value: 0.7429442283898037 and parameters: {'learning_rate': 0.03088729287655904, 'l2_leaf_reg': 26, 'random_strength': 79, 'depth': 10, 'bootstrap_type': 'Bayesian', 'bagging_temperature': 4.465682663392503}. Best is trial 23 with value: 0.7506697340274543.\u001b[0m\n",
            "\u001b[32m[I 2022-03-10 02:57:35,078]\u001b[0m Trial 62 finished with value: 0.7500133674258094 and parameters: {'learning_rate': 0.02941559857510052, 'l2_leaf_reg': 25, 'random_strength': 78, 'depth': 10, 'bootstrap_type': 'Bayesian', 'bagging_temperature': 4.3164303337397}. Best is trial 23 with value: 0.7506697340274543.\u001b[0m\n",
            "\u001b[32m[I 2022-03-10 02:57:46,989]\u001b[0m Trial 63 finished with value: 0.750139999563294 and parameters: {'learning_rate': 0.03894002903198874, 'l2_leaf_reg': 25, 'random_strength': 17, 'depth': 10, 'bootstrap_type': 'Bayesian', 'bagging_temperature': 4.294490223493276}. Best is trial 23 with value: 0.7506697340274543.\u001b[0m\n",
            "\u001b[32m[I 2022-03-10 02:59:37,798]\u001b[0m Trial 64 finished with value: 0.7427604400698364 and parameters: {'learning_rate': 0.03977447203643337, 'l2_leaf_reg': 25, 'random_strength': 92, 'depth': 10, 'bootstrap_type': 'Bayesian', 'bagging_temperature': 4.325351808525483}. Best is trial 23 with value: 0.7506697340274543.\u001b[0m\n",
            "\u001b[32m[I 2022-03-10 03:00:03,431]\u001b[0m Trial 65 finished with value: 0.7458416277803498 and parameters: {'learning_rate': 0.07830859837843258, 'l2_leaf_reg': 25, 'random_strength': 87, 'depth': 10, 'bootstrap_type': 'Bayesian', 'bagging_temperature': 4.265117708410288}. Best is trial 23 with value: 0.7506697340274543.\u001b[0m\n",
            "\u001b[32m[I 2022-03-10 03:02:37,194]\u001b[0m Trial 67 finished with value: 0.7423586295863148 and parameters: {'learning_rate': 0.22934028336284734, 'l2_leaf_reg': 23, 'random_strength': 79, 'depth': 10, 'bootstrap_type': 'Bayesian', 'bagging_temperature': 2.8161654547650254}. Best is trial 23 with value: 0.7506697340274543.\u001b[0m\n",
            "\u001b[32m[I 2022-03-10 03:04:49,190]\u001b[0m Trial 66 finished with value: 0.7512411540646159 and parameters: {'learning_rate': 0.030175042584699965, 'l2_leaf_reg': 25, 'random_strength': 83, 'depth': 10, 'bootstrap_type': 'Bayesian', 'bagging_temperature': 2.887610941683084}. Best is trial 66 with value: 0.7512411540646159.\u001b[0m\n",
            "\u001b[32m[I 2022-03-10 03:05:39,563]\u001b[0m Trial 68 finished with value: 0.7484596424575155 and parameters: {'learning_rate': 0.02940853280224933, 'l2_leaf_reg': 28, 'random_strength': 97, 'depth': 9, 'bootstrap_type': 'Bayesian', 'bagging_temperature': 5.299889379639512}. Best is trial 66 with value: 0.7512411540646159.\u001b[0m\n",
            "\u001b[32m[I 2022-03-10 03:07:59,796]\u001b[0m Trial 69 finished with value: 0.7397146835209558 and parameters: {'learning_rate': 0.011890005672120214, 'l2_leaf_reg': 24, 'random_strength': 100, 'depth': 9, 'bootstrap_type': 'Bayesian', 'bagging_temperature': 1.8065446539870402}. Best is trial 66 with value: 0.7512411540646159.\u001b[0m\n",
            "\u001b[32m[I 2022-03-10 03:10:11,477]\u001b[0m Trial 70 finished with value: 0.7467249491683351 and parameters: {'learning_rate': 0.024708567682447103, 'l2_leaf_reg': 23, 'random_strength': 92, 'depth': 10, 'bootstrap_type': 'Bayesian', 'bagging_temperature': 1.8926370822153669}. Best is trial 66 with value: 0.7512411540646159.\u001b[0m\n",
            "\u001b[32m[I 2022-03-10 03:11:54,940]\u001b[0m Trial 71 finished with value: 0.7502047965254083 and parameters: {'learning_rate': 0.022680833668780383, 'l2_leaf_reg': 27, 'random_strength': 16, 'depth': 10, 'bootstrap_type': 'Bernoulli', 'subsample': 0.7563072660534889}. Best is trial 66 with value: 0.7512411540646159.\u001b[0m\n",
            "\u001b[32m[I 2022-03-10 03:13:57,997]\u001b[0m Trial 72 finished with value: 0.7493028536909803 and parameters: {'learning_rate': 0.043002363007968857, 'l2_leaf_reg': 27, 'random_strength': 82, 'depth': 10, 'bootstrap_type': 'Bayesian', 'bagging_temperature': 3.8890646628772796}. Best is trial 66 with value: 0.7512411540646159.\u001b[0m\n",
            "\u001b[32m[I 2022-03-10 03:16:16,984]\u001b[0m Trial 73 finished with value: 0.7473767313022008 and parameters: {'learning_rate': 0.021363672859731366, 'l2_leaf_reg': 27, 'random_strength': 16, 'depth': 10, 'bootstrap_type': 'Bernoulli', 'subsample': 0.7522975467510172}. Best is trial 66 with value: 0.7512411540646159.\u001b[0m\n",
            "\u001b[32m[I 2022-03-10 03:16:58,482]\u001b[0m Trial 74 finished with value: 0.7444977170453254 and parameters: {'learning_rate': 0.03380180122344788, 'l2_leaf_reg': 25, 'random_strength': 15, 'depth': 10, 'bootstrap_type': 'Bernoulli', 'subsample': 0.7425250380703878}. Best is trial 66 with value: 0.7512411540646159.\u001b[0m\n",
            "\u001b[32m[I 2022-03-10 03:19:14,429]\u001b[0m Trial 75 finished with value: 0.7452421810484151 and parameters: {'learning_rate': 0.033631077553280465, 'l2_leaf_reg': 25, 'random_strength': 29, 'depth': 10, 'bootstrap_type': 'Bernoulli', 'subsample': 0.761448606991733}. Best is trial 66 with value: 0.7512411540646159.\u001b[0m\n",
            "\u001b[32m[I 2022-03-10 03:19:51,438]\u001b[0m Trial 76 finished with value: 0.746470109474885 and parameters: {'learning_rate': 0.01718551350249254, 'l2_leaf_reg': 30, 'random_strength': 27, 'depth': 9, 'bootstrap_type': 'Bernoulli', 'subsample': 0.6322785879078624}. Best is trial 66 with value: 0.7512411540646159.\u001b[0m\n",
            "\u001b[32m[I 2022-03-10 03:20:45,642]\u001b[0m Trial 77 finished with value: 0.7394011594890968 and parameters: {'learning_rate': 0.027798713518962848, 'l2_leaf_reg': 30, 'random_strength': 75, 'depth': 9, 'bootstrap_type': 'Bernoulli', 'subsample': 0.5885525750144381}. Best is trial 66 with value: 0.7512411540646159.\u001b[0m\n",
            "\u001b[32m[I 2022-03-10 03:21:36,711]\u001b[0m Trial 78 finished with value: 0.749284279507092 and parameters: {'learning_rate': 0.028140942101917796, 'l2_leaf_reg': 23, 'random_strength': 9, 'depth': 9, 'bootstrap_type': 'Bernoulli', 'subsample': 0.8443697652641564}. Best is trial 66 with value: 0.7512411540646159.\u001b[0m\n",
            "\u001b[32m[I 2022-03-10 03:22:15,732]\u001b[0m Trial 80 finished with value: 0.6455517948916047 and parameters: {'learning_rate': 0.02352461251644986, 'l2_leaf_reg': 24, 'random_strength': 82, 'depth': 1, 'bootstrap_type': 'Bayesian', 'bagging_temperature': 2.887560097497624}. Best is trial 66 with value: 0.7512411540646159.\u001b[0m\n",
            "\u001b[32m[I 2022-03-10 03:25:38,406]\u001b[0m Trial 79 finished with value: 0.7504226769012993 and parameters: {'learning_rate': 0.013727392225828545, 'l2_leaf_reg': 28, 'random_strength': 18, 'depth': 10, 'bootstrap_type': 'Bernoulli', 'subsample': 0.8459703745115961}. Best is trial 66 with value: 0.7512411540646159.\u001b[0m\n",
            "\u001b[32m[I 2022-03-10 03:26:02,412]\u001b[0m Trial 81 finished with value: 0.747562236828312 and parameters: {'learning_rate': 0.020804035458837154, 'l2_leaf_reg': 28, 'random_strength': 18, 'depth': 10, 'bootstrap_type': 'Bayesian', 'bagging_temperature': 3.2363500970933687}. Best is trial 66 with value: 0.7512411540646159.\u001b[0m\n",
            "\u001b[32m[I 2022-03-10 03:29:31,644]\u001b[0m Trial 82 finished with value: 0.7421210249710447 and parameters: {'learning_rate': 0.01450834119760297, 'l2_leaf_reg': 27, 'random_strength': 32, 'depth': 10, 'bootstrap_type': 'Bernoulli', 'subsample': 0.8154488985404202}. Best is trial 66 with value: 0.7512411540646159.\u001b[0m\n",
            "\u001b[32m[I 2022-03-10 03:31:07,303]\u001b[0m Trial 83 finished with value: 0.7509771454356078 and parameters: {'learning_rate': 0.013497357132994482, 'l2_leaf_reg': 27, 'random_strength': 13, 'depth': 10, 'bootstrap_type': 'Bernoulli', 'subsample': 0.81591676965127}. Best is trial 66 with value: 0.7512411540646159.\u001b[0m\n",
            "\u001b[32m[I 2022-03-10 03:34:19,858]\u001b[0m Trial 84 finished with value: 0.7487592712983739 and parameters: {'learning_rate': 0.012230860120900019, 'l2_leaf_reg': 26, 'random_strength': 13, 'depth': 10, 'bootstrap_type': 'Bernoulli', 'subsample': 0.6815591454169624}. Best is trial 66 with value: 0.7512411540646159.\u001b[0m\n",
            "\u001b[32m[I 2022-03-10 03:36:40,067]\u001b[0m Trial 85 finished with value: 0.7501662617893685 and parameters: {'learning_rate': 0.01306939369761992, 'l2_leaf_reg': 28, 'random_strength': 11, 'depth': 10, 'bootstrap_type': 'Bernoulli', 'subsample': 0.9994122702788739}. Best is trial 66 with value: 0.7512411540646159.\u001b[0m\n",
            "\u001b[32m[I 2022-03-10 03:37:26,992]\u001b[0m Trial 86 finished with value: 0.747260938043864 and parameters: {'learning_rate': 0.016864281234278567, 'l2_leaf_reg': 29, 'random_strength': 10, 'depth': 9, 'bootstrap_type': 'Bernoulli', 'subsample': 0.828652233943397}. Best is trial 66 with value: 0.7512411540646159.\u001b[0m\n",
            "\u001b[32m[I 2022-03-10 03:39:41,201]\u001b[0m Trial 87 finished with value: 0.7496596387143211 and parameters: {'learning_rate': 0.013222106572481816, 'l2_leaf_reg': 29, 'random_strength': 9, 'depth': 9, 'bootstrap_type': 'Bernoulli', 'subsample': 0.8608151257654042}. Best is trial 66 with value: 0.7512411540646159.\u001b[0m\n",
            "\u001b[32m[I 2022-03-10 03:40:42,498]\u001b[0m Trial 88 finished with value: 0.7482186979550659 and parameters: {'learning_rate': 0.01334956510106891, 'l2_leaf_reg': 28, 'random_strength': 22, 'depth': 9, 'bootstrap_type': 'Bernoulli', 'subsample': 0.9944339213104711}. Best is trial 66 with value: 0.7512411540646159.\u001b[0m\n",
            "\u001b[32m[I 2022-03-10 03:45:18,457]\u001b[0m Trial 89 finished with value: 0.745358305144633 and parameters: {'learning_rate': 0.011015191990417651, 'l2_leaf_reg': 28, 'random_strength': 24, 'depth': 10, 'bootstrap_type': 'Bernoulli', 'subsample': 0.9962220835709034}. Best is trial 66 with value: 0.7512411540646159.\u001b[0m\n",
            "\u001b[32m[I 2022-03-10 03:46:35,232]\u001b[0m Trial 90 finished with value: 0.7483608007020316 and parameters: {'learning_rate': 0.010511228012695863, 'l2_leaf_reg': 26, 'random_strength': 14, 'depth': 10, 'bootstrap_type': 'Bernoulli', 'subsample': 0.9867571108333295}. Best is trial 66 with value: 0.7512411540646159.\u001b[0m\n",
            "\u001b[32m[I 2022-03-10 03:50:25,971]\u001b[0m Trial 91 finished with value: 0.7502511138287429 and parameters: {'learning_rate': 0.015904227735023858, 'l2_leaf_reg': 26, 'random_strength': 12, 'depth': 10, 'bootstrap_type': 'Bernoulli', 'subsample': 0.7827570946657787}. Best is trial 66 with value: 0.7512411540646159.\u001b[0m\n",
            "\u001b[32m[I 2022-03-10 03:51:50,691]\u001b[0m Trial 92 finished with value: 0.7508457870426809 and parameters: {'learning_rate': 0.015315321038328965, 'l2_leaf_reg': 27, 'random_strength': 17, 'depth': 10, 'bootstrap_type': 'Bernoulli', 'subsample': 0.7917337390148584}. Best is trial 66 with value: 0.7512411540646159.\u001b[0m\n",
            "\u001b[32m[I 2022-03-10 03:54:15,430]\u001b[0m Trial 93 finished with value: 0.7470772915115602 and parameters: {'learning_rate': 0.01575588417234221, 'l2_leaf_reg': 27, 'random_strength': 11, 'depth': 10, 'bootstrap_type': 'Bernoulli', 'subsample': 0.7971546806943043}. Best is trial 66 with value: 0.7512411540646159.\u001b[0m\n",
            "\u001b[32m[I 2022-03-10 03:56:56,771]\u001b[0m Trial 94 finished with value: 0.7502743197429649 and parameters: {'learning_rate': 0.015830305181483314, 'l2_leaf_reg': 27, 'random_strength': 19, 'depth': 10, 'bootstrap_type': 'Bernoulli', 'subsample': 0.775206200696492}. Best is trial 66 with value: 0.7512411540646159.\u001b[0m\n",
            "\u001b[32m[I 2022-03-10 03:59:09,455]\u001b[0m Trial 95 finished with value: 0.7461596417548789 and parameters: {'learning_rate': 0.018936291170072082, 'l2_leaf_reg': 26, 'random_strength': 20, 'depth': 10, 'bootstrap_type': 'Bernoulli', 'subsample': 0.7092481557431557}. Best is trial 66 with value: 0.7512411540646159.\u001b[0m\n",
            "\u001b[32m[I 2022-03-10 03:59:42,451]\u001b[0m Trial 96 finished with value: 0.7500936349974048 and parameters: {'learning_rate': 0.01884664587827675, 'l2_leaf_reg': 26, 'random_strength': 21, 'depth': 9, 'bootstrap_type': 'Bernoulli', 'subsample': 0.6854980707375843}. Best is trial 66 with value: 0.7512411540646159.\u001b[0m\n",
            "\u001b[32m[I 2022-03-10 04:00:24,975]\u001b[0m Trial 98 finished with value: 0.6606709915264857 and parameters: {'learning_rate': 0.011470645061096449, 'l2_leaf_reg': 24, 'random_strength': 24, 'depth': 2, 'bootstrap_type': 'Bernoulli', 'subsample': 0.8993778844035701}. Best is trial 66 with value: 0.7512411540646159.\u001b[0m\n",
            "\u001b[32m[I 2022-03-10 04:02:00,548]\u001b[0m Trial 97 finished with value: 0.7467017905166676 and parameters: {'learning_rate': 0.017117434591978047, 'l2_leaf_reg': 24, 'random_strength': 8, 'depth': 9, 'bootstrap_type': 'Bernoulli', 'subsample': 0.8987541636022427}. Best is trial 66 with value: 0.7512411540646159.\u001b[0m\n",
            "\u001b[32m[I 2022-03-10 04:02:43,949]\u001b[0m Trial 99 finished with value: 0.7452514917716366 and parameters: {'learning_rate': 0.015029009628561827, 'l2_leaf_reg': 29, 'random_strength': 8, 'depth': 9, 'bootstrap_type': 'MVS'}. Best is trial 66 with value: 0.7512411540646159.\u001b[0m\n"
          ]
        },
        {
          "output_type": "stream",
          "name": "stdout",
          "text": [
            "Number of completed trials: 100\n",
            "Best trial:\n",
            "\tBest Score: 0.7512411540646159\n",
            "\tBest Params: \n",
            "    learning_rate: 0.030175042584699965\n",
            "    l2_leaf_reg: 25\n",
            "    random_strength: 83\n",
            "    depth: 10\n",
            "    bootstrap_type: Bayesian\n",
            "    bagging_temperature: 2.887610941683084\n"
          ]
        }
      ]
    },
    {
      "cell_type": "code",
      "source": [
        "# Melihat hyperparameter terbaik\n",
        "best_params = trial.params\n",
        "print(best_params)"
      ],
      "metadata": {
        "colab": {
          "base_uri": "https://localhost:8080/"
        },
        "outputId": "55f3b788-45f6-4b9a-acd4-b582fe8e02b1",
        "id": "8wWOsLllhTL6"
      },
      "execution_count": null,
      "outputs": [
        {
          "output_type": "stream",
          "name": "stdout",
          "text": [
            "{'learning_rate': 0.030175042584699965, 'l2_leaf_reg': 25, 'random_strength': 83, 'depth': 10, 'bootstrap_type': 'Bayesian', 'bagging_temperature': 2.887610941683084}\n"
          ]
        }
      ]
    },
    {
      "cell_type": "code",
      "source": [
        "# Menyimpan parameter terbaik\n",
        "saved_best_params = {'learning_rate': 0.030175042584699965, 'l2_leaf_reg': 25, 'random_strength': 83, 'depth': 10, 'bootstrap_type': 'Bayesian', 'bagging_temperature': 2.887610941683084}"
      ],
      "metadata": {
        "id": "Fq-4CqLXqw_e"
      },
      "execution_count": null,
      "outputs": []
    },
    {
      "cell_type": "markdown",
      "source": [
        "## Evaluasi Model"
      ],
      "metadata": {
        "id": "Byl5sRJpsUaU"
      }
    },
    {
      "cell_type": "code",
      "source": [
        "# Membuat model dengan parameter\n",
        "model = CatBoostClassifier(eval_metric='AUC', auto_class_weights='Balanced', **saved_best_params)"
      ],
      "metadata": {
        "id": "13EkEp1HC7Ny"
      },
      "execution_count": null,
      "outputs": []
    },
    {
      "cell_type": "code",
      "source": [
        "# Fit model\n",
        "model.fit(X_train_enn_reduced, y_train_enn, eval_set=val_pool, verbose=0, early_stopping_rounds=100)\n",
        "\n",
        "# Predict evaluation set\n",
        "y_predict = model.predict(X_val_reduced)"
      ],
      "metadata": {
        "id": "L-EAPpWosE1m"
      },
      "execution_count": null,
      "outputs": []
    },
    {
      "cell_type": "code",
      "source": [
        "# Evaluasi roc_score\n",
        "print(\"Nilai ROC AUC Validation: \", roc_auc_score(y_val, y_predict))"
      ],
      "metadata": {
        "colab": {
          "base_uri": "https://localhost:8080/"
        },
        "id": "TuSuCUO3soY_",
        "outputId": "6162a832-c7bf-4092-fc44-79f743cdb4ab"
      },
      "execution_count": null,
      "outputs": [
        {
          "output_type": "stream",
          "name": "stdout",
          "text": [
            "Nilai ROC AUC Validation:  0.7512411540646159\n"
          ]
        }
      ]
    },
    {
      "cell_type": "markdown",
      "source": [
        "## Prediksi Test Set"
      ],
      "metadata": {
        "id": "6LwIWOMro-v1"
      }
    },
    {
      "cell_type": "code",
      "source": [
        "# Load dataset\n",
        "df_test = pd.read_csv('/content/FDC/findata_challenge_test.csv')\n",
        "\n",
        "# Preview dataset\n",
        "df_test"
      ],
      "metadata": {
        "id": "qHR9ZsYPpIJq"
      },
      "execution_count": null,
      "outputs": []
    },
    {
      "cell_type": "code",
      "source": [
        "# Apply fungsi preprocess pada data test \n",
        "df_test = preprocess(df_test)\n",
        "\n",
        "# Feature selection\n",
        "df_test_reduced = df_test.drop(columns = saved_features_to_remove)"
      ],
      "metadata": {
        "id": "aGoGvkPEpofx"
      },
      "execution_count": null,
      "outputs": []
    },
    {
      "cell_type": "code",
      "source": [
        "# Predict test set\n",
        "test_predict = model.predict(df_test_reduced)"
      ],
      "metadata": {
        "id": "CpEmUauRtTSq"
      },
      "execution_count": null,
      "outputs": []
    },
    {
      "cell_type": "code",
      "source": [
        "test_predict"
      ],
      "metadata": {
        "colab": {
          "base_uri": "https://localhost:8080/"
        },
        "id": "r7vuBfckuCqc",
        "outputId": "5cea0101-3cca-4eb5-d895-2171113778ac"
      },
      "execution_count": null,
      "outputs": [
        {
          "output_type": "execute_result",
          "data": {
            "text/plain": [
              "array([0, 0, 0, ..., 1, 0, 0])"
            ]
          },
          "metadata": {},
          "execution_count": 42
        }
      ]
    },
    {
      "cell_type": "code",
      "source": [
        "# Simpan ke dataframe\n",
        "df_csv = pd.DataFrame({\"Id\": np.arange(25000), \"Predicted\": test_predict})\n",
        "df_csv"
      ],
      "metadata": {
        "colab": {
          "base_uri": "https://localhost:8080/",
          "height": 424
        },
        "id": "Zox8929NuJN6",
        "outputId": "9e189198-3fa1-408f-e3bd-02baae55a895"
      },
      "execution_count": null,
      "outputs": [
        {
          "output_type": "execute_result",
          "data": {
            "text/html": [
              "\n",
              "  <div id=\"df-47016f23-780e-4598-9a69-fb40e6a7abf9\">\n",
              "    <div class=\"colab-df-container\">\n",
              "      <div>\n",
              "<style scoped>\n",
              "    .dataframe tbody tr th:only-of-type {\n",
              "        vertical-align: middle;\n",
              "    }\n",
              "\n",
              "    .dataframe tbody tr th {\n",
              "        vertical-align: top;\n",
              "    }\n",
              "\n",
              "    .dataframe thead th {\n",
              "        text-align: right;\n",
              "    }\n",
              "</style>\n",
              "<table border=\"1\" class=\"dataframe\">\n",
              "  <thead>\n",
              "    <tr style=\"text-align: right;\">\n",
              "      <th></th>\n",
              "      <th>Id</th>\n",
              "      <th>Predicted</th>\n",
              "    </tr>\n",
              "  </thead>\n",
              "  <tbody>\n",
              "    <tr>\n",
              "      <th>0</th>\n",
              "      <td>0</td>\n",
              "      <td>0</td>\n",
              "    </tr>\n",
              "    <tr>\n",
              "      <th>1</th>\n",
              "      <td>1</td>\n",
              "      <td>0</td>\n",
              "    </tr>\n",
              "    <tr>\n",
              "      <th>2</th>\n",
              "      <td>2</td>\n",
              "      <td>0</td>\n",
              "    </tr>\n",
              "    <tr>\n",
              "      <th>3</th>\n",
              "      <td>3</td>\n",
              "      <td>0</td>\n",
              "    </tr>\n",
              "    <tr>\n",
              "      <th>4</th>\n",
              "      <td>4</td>\n",
              "      <td>0</td>\n",
              "    </tr>\n",
              "    <tr>\n",
              "      <th>...</th>\n",
              "      <td>...</td>\n",
              "      <td>...</td>\n",
              "    </tr>\n",
              "    <tr>\n",
              "      <th>24995</th>\n",
              "      <td>24995</td>\n",
              "      <td>0</td>\n",
              "    </tr>\n",
              "    <tr>\n",
              "      <th>24996</th>\n",
              "      <td>24996</td>\n",
              "      <td>1</td>\n",
              "    </tr>\n",
              "    <tr>\n",
              "      <th>24997</th>\n",
              "      <td>24997</td>\n",
              "      <td>1</td>\n",
              "    </tr>\n",
              "    <tr>\n",
              "      <th>24998</th>\n",
              "      <td>24998</td>\n",
              "      <td>0</td>\n",
              "    </tr>\n",
              "    <tr>\n",
              "      <th>24999</th>\n",
              "      <td>24999</td>\n",
              "      <td>0</td>\n",
              "    </tr>\n",
              "  </tbody>\n",
              "</table>\n",
              "<p>25000 rows × 2 columns</p>\n",
              "</div>\n",
              "      <button class=\"colab-df-convert\" onclick=\"convertToInteractive('df-47016f23-780e-4598-9a69-fb40e6a7abf9')\"\n",
              "              title=\"Convert this dataframe to an interactive table.\"\n",
              "              style=\"display:none;\">\n",
              "        \n",
              "  <svg xmlns=\"http://www.w3.org/2000/svg\" height=\"24px\"viewBox=\"0 0 24 24\"\n",
              "       width=\"24px\">\n",
              "    <path d=\"M0 0h24v24H0V0z\" fill=\"none\"/>\n",
              "    <path d=\"M18.56 5.44l.94 2.06.94-2.06 2.06-.94-2.06-.94-.94-2.06-.94 2.06-2.06.94zm-11 1L8.5 8.5l.94-2.06 2.06-.94-2.06-.94L8.5 2.5l-.94 2.06-2.06.94zm10 10l.94 2.06.94-2.06 2.06-.94-2.06-.94-.94-2.06-.94 2.06-2.06.94z\"/><path d=\"M17.41 7.96l-1.37-1.37c-.4-.4-.92-.59-1.43-.59-.52 0-1.04.2-1.43.59L10.3 9.45l-7.72 7.72c-.78.78-.78 2.05 0 2.83L4 21.41c.39.39.9.59 1.41.59.51 0 1.02-.2 1.41-.59l7.78-7.78 2.81-2.81c.8-.78.8-2.07 0-2.86zM5.41 20L4 18.59l7.72-7.72 1.47 1.35L5.41 20z\"/>\n",
              "  </svg>\n",
              "      </button>\n",
              "      \n",
              "  <style>\n",
              "    .colab-df-container {\n",
              "      display:flex;\n",
              "      flex-wrap:wrap;\n",
              "      gap: 12px;\n",
              "    }\n",
              "\n",
              "    .colab-df-convert {\n",
              "      background-color: #E8F0FE;\n",
              "      border: none;\n",
              "      border-radius: 50%;\n",
              "      cursor: pointer;\n",
              "      display: none;\n",
              "      fill: #1967D2;\n",
              "      height: 32px;\n",
              "      padding: 0 0 0 0;\n",
              "      width: 32px;\n",
              "    }\n",
              "\n",
              "    .colab-df-convert:hover {\n",
              "      background-color: #E2EBFA;\n",
              "      box-shadow: 0px 1px 2px rgba(60, 64, 67, 0.3), 0px 1px 3px 1px rgba(60, 64, 67, 0.15);\n",
              "      fill: #174EA6;\n",
              "    }\n",
              "\n",
              "    [theme=dark] .colab-df-convert {\n",
              "      background-color: #3B4455;\n",
              "      fill: #D2E3FC;\n",
              "    }\n",
              "\n",
              "    [theme=dark] .colab-df-convert:hover {\n",
              "      background-color: #434B5C;\n",
              "      box-shadow: 0px 1px 3px 1px rgba(0, 0, 0, 0.15);\n",
              "      filter: drop-shadow(0px 1px 2px rgba(0, 0, 0, 0.3));\n",
              "      fill: #FFFFFF;\n",
              "    }\n",
              "  </style>\n",
              "\n",
              "      <script>\n",
              "        const buttonEl =\n",
              "          document.querySelector('#df-47016f23-780e-4598-9a69-fb40e6a7abf9 button.colab-df-convert');\n",
              "        buttonEl.style.display =\n",
              "          google.colab.kernel.accessAllowed ? 'block' : 'none';\n",
              "\n",
              "        async function convertToInteractive(key) {\n",
              "          const element = document.querySelector('#df-47016f23-780e-4598-9a69-fb40e6a7abf9');\n",
              "          const dataTable =\n",
              "            await google.colab.kernel.invokeFunction('convertToInteractive',\n",
              "                                                     [key], {});\n",
              "          if (!dataTable) return;\n",
              "\n",
              "          const docLinkHtml = 'Like what you see? Visit the ' +\n",
              "            '<a target=\"_blank\" href=https://colab.research.google.com/notebooks/data_table.ipynb>data table notebook</a>'\n",
              "            + ' to learn more about interactive tables.';\n",
              "          element.innerHTML = '';\n",
              "          dataTable['output_type'] = 'display_data';\n",
              "          await google.colab.output.renderOutput(dataTable, element);\n",
              "          const docLink = document.createElement('div');\n",
              "          docLink.innerHTML = docLinkHtml;\n",
              "          element.appendChild(docLink);\n",
              "        }\n",
              "      </script>\n",
              "    </div>\n",
              "  </div>\n",
              "  "
            ],
            "text/plain": [
              "          Id  Predicted\n",
              "0          0          0\n",
              "1          1          0\n",
              "2          2          0\n",
              "3          3          0\n",
              "4          4          0\n",
              "...      ...        ...\n",
              "24995  24995          0\n",
              "24996  24996          1\n",
              "24997  24997          1\n",
              "24998  24998          0\n",
              "24999  24999          0\n",
              "\n",
              "[25000 rows x 2 columns]"
            ]
          },
          "metadata": {},
          "execution_count": 43
        }
      ]
    },
    {
      "cell_type": "code",
      "source": [
        "# Simpan ke csv\n",
        "df_csv.to_csv(\"kristian_bagus_wibowo-submission.csv\",index=False)"
      ],
      "metadata": {
        "id": "sbv2LVDmw0Q9"
      },
      "execution_count": null,
      "outputs": []
    }
  ],
  "metadata": {
    "colab": {
      "collapsed_sections": [
        "4QAEwFTYTy2F",
        "zrRwffwmUdQT",
        "Zcs3wjCSLTSF",
        "OHYPk9cZQIeN",
        "XOY3z5xcLXRw",
        "TE4QOfJkQDIh",
        "cB7f536uXMl1",
        "iqIXuhMAr7ec",
        "5hmHCSm8Ljgg",
        "9E4tRbgaMELj"
      ],
      "name": "FDC BRI 2022 Final Censored.ipynb",
      "provenance": [],
      "authorship_tag": "ABX9TyPlFIVghbOVL8MmNDBxaiQZ",
      "include_colab_link": true
    },
    "kernelspec": {
      "display_name": "Python 3",
      "name": "python3"
    },
    "language_info": {
      "name": "python"
    }
  },
  "nbformat": 4,
  "nbformat_minor": 0
}
